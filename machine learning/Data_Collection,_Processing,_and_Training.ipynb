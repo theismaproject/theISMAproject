{
  "cells": [
    {
      "cell_type": "markdown",
      "metadata": {
        "id": "JF9nJVbBcdED"
      },
      "source": [
        "# **1: Data Collection**\n",
        "\n"
      ]
    },
    {
      "cell_type": "markdown",
      "metadata": {
        "id": "SXDv_Hda4hSL"
      },
      "source": [
        "## Twitter Data\n",
        "Scrape data from Twitter via API\n"
      ]
    },
    {
      "cell_type": "code",
      "execution_count": null,
      "metadata": {
        "id": "WftCTnCRcDUX"
      },
      "outputs": [],
      "source": [
        "import tweepy \n",
        "\n",
        "auth = tweepy.OAuthHandler(\"<redacted>\", \"<redacted>\")\n",
        "auth.set_access_token(\"<redacted>\", \"<redacted>\")\n",
        "\n",
        "api = tweepy.API(auth, wait_on_rate_limit=True, wait_on_rate_limit_notify=True)"
      ]
    },
    {
      "cell_type": "code",
      "execution_count": null,
      "metadata": {
        "id": "3RS-Fpm0oZ6A"
      },
      "outputs": [],
      "source": [
        "\"\"\"\n",
        "Fetches a tweet given a search query, q, and num of tweets to return, num.\n",
        "Returns a list of strings with the full text of tweets. Normalized by stripped \\n's\n",
        "Example:\n",
        "\n",
        "list = fetch_tweet_text(\"religion -filter:retweets\", 500)\n",
        "\"\"\"\n",
        "def fetch_tweet_text(q, num):\n",
        "  searched_tweets = [status for status in tweepy.Cursor(api.search, q=q, tweet_mode='extended', lang='en').items(num)]\n",
        "  rl = []\n",
        "  for tweet in searched_tweets:\n",
        "    rl.append(tweet._json['full_text'].replace(\"\\n\", \" \"))\n",
        "  return rl"
      ]
    },
    {
      "cell_type": "markdown",
      "metadata": {
        "id": "1j75SqLOrxz_"
      },
      "source": [
        "Initilize two lists containing the general tweets and muslim tweets below.\n",
        "\n",
        "Then, in the following lines, append to each respective list with strings containing tweets under different search terms"
      ]
    },
    {
      "cell_type": "code",
      "execution_count": null,
      "metadata": {
        "id": "3V2GAI2Ckj_e"
      },
      "outputs": [],
      "source": [
        "general_tweets = []\n",
        "muslim_tweets = []"
      ]
    },
    {
      "cell_type": "code",
      "execution_count": null,
      "metadata": {
        "id": "jfm_oxfWdtyd"
      },
      "outputs": [],
      "source": [
        "muslim_tweets = muslim_tweets + fetch_tweet_text(\"muslim attack -filter:retweets\",500)\n",
        "muslim_tweets = muslim_tweets + fetch_tweet_text(\"islam -filter:retweets\",500)\n",
        "muslim_tweets = muslim_tweets + fetch_tweet_text(\"muslim ban -filter:retweets\",500)\n",
        "muslim_tweets = muslim_tweets + fetch_tweet_text(\"muhammad -filter:retweets\",500)\n",
        "muslim_tweets = muslim_tweets + fetch_tweet_text(\"allah -filter:retweets\",500)\n",
        "muslim_tweets = muslim_tweets + fetch_tweet_text(\"muslim criminals -filter:retweets\",500)\n",
        "muslim_tweets = muslim_tweets + fetch_tweet_text(\"taliban -filter:retweets\",500)"
      ]
    },
    {
      "cell_type": "code",
      "execution_count": null,
      "metadata": {
        "colab": {
          "base_uri": "https://localhost:8080/"
        },
        "id": "iBtaCH0RrV6o",
        "outputId": "4e113f43-1863-4147-ced8-39fdb831fb26"
      },
      "outputs": [
        {
          "name": "stderr",
          "output_type": "stream",
          "text": [
            "Rate limit reached. Sleeping for: 859\n"
          ]
        }
      ],
      "source": [
        "general_tweets = general_tweets + fetch_tweet_text(\"thanksgiving -filter:retweets\",500)\n",
        "general_tweets = general_tweets + fetch_tweet_text(\"google -filter:retweets\",500)\n",
        "general_tweets = general_tweets + fetch_tweet_text(\"racist -filter:retweets\",500)\n",
        "general_tweets = general_tweets + fetch_tweet_text(\"murder -filter:retweets\",500)\n",
        "general_tweets = general_tweets + fetch_tweet_text(\"criminal -filter:retweets\",500)\n",
        "general_tweets = general_tweets + fetch_tweet_text(\"bomb -filter:retweets\",500)\n",
        "general_tweets = general_tweets + fetch_tweet_text(\"terrorist -filter:retweets\",125)\n",
        "general_tweets = general_tweets + fetch_tweet_text(\"lqbgt -filter:retweets\",150)\n",
        "general_tweets = general_tweets + fetch_tweet_text(\"black -filter:retweets\",125)\n",
        "general_tweets = general_tweets + fetch_tweet_text(\"women -filter:retweets\",150)\n",
        "general_tweets = general_tweets + fetch_tweet_text(\"big tech -filter:retweets\",170)\n",
        "general_tweets = general_tweets + fetch_tweet_text(\"google -filter:retweets\",125)\n",
        "general_tweets = general_tweets + fetch_tweet_text(\"facebook -filter:retweets\",125)\n",
        "general_tweets = general_tweets + fetch_tweet_text(\"business -filter:retweets\",170)\n",
        "general_tweets = general_tweets + fetch_tweet_text(\"economy -filter:retweets\",170)\n",
        "general_tweets = general_tweets + fetch_tweet_text(\"literature -filter:retweets\",170)\n",
        "general_tweets = general_tweets + fetch_tweet_text(\"democrats -filter:retweets\",100)\n",
        "general_tweets = general_tweets + fetch_tweet_text(\"republican -filter:retweets\",100)\n",
        "general_tweets = general_tweets + fetch_tweet_text(\"trump -filter:retweets\",100)\n",
        "general_tweets = general_tweets + fetch_tweet_text(\"biden -filter:retweets\",100)\n",
        "general_tweets = general_tweets + fetch_tweet_text(\"earth -filter:retweets\",170)\n",
        "general_tweets = general_tweets + fetch_tweet_text(\"bill nye -filter:retweets\",60)\n",
        "general_tweets = general_tweets + fetch_tweet_text(\"jury -filter:retweets\",125)\n",
        "general_tweets = general_tweets + fetch_tweet_text(\"united states -filter:retweets\",170)\n",
        "general_tweets = general_tweets + fetch_tweet_text(\"football -filter:retweets\",170)\n",
        "general_tweets = general_tweets + fetch_tweet_text(\"california -filter:retweets\",80)\n",
        "general_tweets = general_tweets + fetch_tweet_text(\"tesla -filter:retweets\",60)\n",
        "general_tweets = general_tweets + fetch_tweet_text(\"police -filter:retweets\",80)\n",
        "general_tweets = general_tweets + fetch_tweet_text(\"climate -filter:retweets\",100)\n",
        "general_tweets = general_tweets + fetch_tweet_text(\"video game -filter:retweets\",100)\n",
        "general_tweets = general_tweets + fetch_tweet_text(\"hate -filter:retweets\",100)\n",
        "general_tweets = general_tweets + fetch_tweet_text(\"evil -filter:retweets\",100)\n",
        "general_tweets = general_tweets + fetch_tweet_text(\"extreme -filter:retweets\",100)\n",
        "general_tweets = general_tweets + fetch_tweet_text(\"stupid -filter:retweets\",100)\n",
        "general_tweets = general_tweets + fetch_tweet_text(\"website -filter:retweets\",20)\n",
        "general_tweets = general_tweets + fetch_tweet_text(\"porn -filter:retweets\",20)\n",
        "general_tweets = general_tweets + fetch_tweet_text(\"sex -filter:retweets\",20)\n",
        "general_tweets = general_tweets + fetch_tweet_text(\"cup -filter:retweets\",20)\n",
        "general_tweets = general_tweets + fetch_tweet_text(\"water -filter:retweets\",20)\n",
        "general_tweets = general_tweets + fetch_tweet_text(\"mario -filter:retweets\",20)\n",
        "general_tweets = general_tweets + fetch_tweet_text(\"dragon -filter:retweets\",20)\n",
        "general_tweets = general_tweets + fetch_tweet_text(\"unicorn -filter:retweets\",20)\n",
        "general_tweets = general_tweets + fetch_tweet_text(\"python -filter:retweets\",20)\n",
        "general_tweets = general_tweets + fetch_tweet_text(\"java -filter:retweets\",20)\n",
        "general_tweets = general_tweets + fetch_tweet_text(\"cancel -filter:retweets\",20)\n",
        "general_tweets = general_tweets + fetch_tweet_text(\"arizona -filter:retweets\",20)\n",
        "general_tweets = general_tweets + fetch_tweet_text(\"elon musk -filter:retweets\",20)\n",
        "general_tweets = general_tweets + fetch_tweet_text(\"covid -filter:retweets\",20)\n",
        "general_tweets = general_tweets + fetch_tweet_text(\"vaccine -filter:retweets\",20)\n",
        "general_tweets = general_tweets + fetch_tweet_text(\"virus -filter:retweets\",20)\n",
        "general_tweets = general_tweets + fetch_tweet_text(\"china -filter:retweets\",20)\n",
        "general_tweets = general_tweets + fetch_tweet_text(\"middle east -filter:retweets\",20)\n",
        "general_tweets = general_tweets + fetch_tweet_text(\"isis -filter:retweets\",20)\n",
        "general_tweets = general_tweets + fetch_tweet_text(\"cowboys -filter:retweets\",20)\n",
        "general_tweets = general_tweets + fetch_tweet_text(\"chainsmokers -filter:retweets\",20)\n",
        "general_tweets = general_tweets + fetch_tweet_text(\"bts -filter:retweets\",20)\n",
        "general_tweets = general_tweets + fetch_tweet_text(\"eminem -filter:retweets\",20)\n",
        "general_tweets = general_tweets + fetch_tweet_text(\"concert -filter:retweets\",20)"
      ]
    },
    {
      "cell_type": "markdown",
      "metadata": {
        "id": "LkApXCIqsfgT"
      },
      "source": [
        "### Data-preprocessing for self-scraped data"
      ]
    },
    {
      "cell_type": "code",
      "execution_count": null,
      "metadata": {
        "id": "X7MyIk0-nJaZ"
      },
      "outputs": [],
      "source": [
        "import pandas as pd\n",
        "\n",
        "muslim_tweets = [[x, \"muslim\"] for x in muslim_tweets]\n",
        "general_tweets = [[x, \"other\"] for x in general_tweets]\n",
        "\n",
        "muslim_tweets_df = pd.DataFrame(muslim_tweets, columns=['Text', 'Label'])\n",
        "general_tweets_df = pd.DataFrame(general_tweets, columns=['Text', 'Label'])\n",
        "\n",
        "combined_religious_df = pd.concat([general_tweets_df, muslim_tweets_df])"
      ]
    },
    {
      "cell_type": "code",
      "execution_count": null,
      "metadata": {
        "id": "yPrNBSCPtbsx"
      },
      "outputs": [],
      "source": [
        "# Append old data, then drop duplicates\n",
        "previous_df = pd.read_csv(\"combined_religious_tweets_self_scraped.csv\", lineterminator='\\n')\n",
        "combined_religious_df = pd.concat([previous_df, combined_religious_df])"
      ]
    },
    {
      "cell_type": "code",
      "execution_count": null,
      "metadata": {
        "id": "3DN5AZTNn1HM"
      },
      "outputs": [],
      "source": [
        "# remove duplicated data entires based on the tweet Text\n",
        "combined_religious_df = combined_religious_df.drop_duplicates(subset='Text', keep=False)"
      ]
    },
    {
      "cell_type": "code",
      "execution_count": null,
      "metadata": {
        "colab": {
          "base_uri": "https://localhost:8080/"
        },
        "id": "C4HMy0f9nahD",
        "outputId": "f56e1d7e-f727-429c-d429-4341efa732ae"
      },
      "outputs": [
        {
          "name": "stdout",
          "output_type": "stream",
          "text": [
            "<class 'pandas.core.frame.DataFrame'>\n",
            "Int64Index: 8738 entries, 0 to 2334\n",
            "Data columns (total 2 columns):\n",
            " #   Column  Non-Null Count  Dtype \n",
            "---  ------  --------------  ----- \n",
            " 0   Text    8738 non-null   object\n",
            " 1   Label   8738 non-null   object\n",
            "dtypes: object(2)\n",
            "memory usage: 204.8+ KB\n"
          ]
        }
      ],
      "source": [
        "combined_religious_df.info()"
      ]
    },
    {
      "cell_type": "code",
      "execution_count": null,
      "metadata": {
        "id": "xIgvIVH3n9Eu"
      },
      "outputs": [],
      "source": [
        "combined_religious_df.to_csv('combined_religious_tweets_self_scraped_output.csv', index=False)"
      ]
    },
    {
      "cell_type": "markdown",
      "metadata": {
        "id": "ar7FlpAMu_YT"
      },
      "source": [
        "## Parler Data"
      ]
    },
    {
      "cell_type": "code",
      "execution_count": null,
      "metadata": {
        "id": "X4viaOG3u-oT"
      },
      "outputs": [],
      "source": [
        "import requests\n",
        "from bs4 import BeautifulSoup\n",
        "import time\n",
        "\n",
        "\"\"\"\n",
        "Fetch parler data from: https://parler.adatascienti.st/\n",
        "Retrieves number of pages, num, of text matching the search string, search_term, and returns it as a list\n",
        "Ratelimited to max 1 req/s\n",
        "Num results = num pages * 50\n",
        "\"\"\"\n",
        "def fetch_parler(search_term, num):\n",
        "  cursor = \"\" # get first page\n",
        "  results = [] \n",
        "  for i in range(num):\n",
        "    response = requests.get(\"https://parler.adatascienti.st\" + ((\"/search?q=%s&type=comment&sort=sc\" % search_term) if cursor == \"\" else cursor)).text\n",
        "    p_resp = BeautifulSoup(response).select(\".search-result > #hits > .card > .card-body > p:nth-of-type(2)\")\n",
        "    for p_elem in p_resp:\n",
        "      results.append(p_elem.text)\n",
        "    cursor = BeautifulSoup(response).select(\".search-next\")[0]['href']\n",
        "    time.sleep(1) # throttle\n",
        "  return results"
      ]
    },
    {
      "cell_type": "code",
      "execution_count": null,
      "metadata": {
        "id": "-U-FLGIdzhG6"
      },
      "outputs": [],
      "source": [
        "parler_data, moderate_parler_data = [], []"
      ]
    },
    {
      "cell_type": "code",
      "execution_count": null,
      "metadata": {
        "id": "Y5wF0egcvbW5"
      },
      "outputs": [],
      "source": [
        "parler_data = parler_data + fetch_parler(\"muslim\", 50)\n",
        "parler_data = parler_data + fetch_parler(\"islam\", 50)\n",
        "parler_data = parler_data + fetch_parler(\"muhammad\", 20)\n",
        "parler_data = parler_data + fetch_parler(\"allah\", 30)\n",
        "parler_data = parler_data + fetch_parler(\"taliban\", 15)\n",
        "parler_data = parler_data + fetch_parler(\"quran\", 30)\n",
        "parler_data = parler_data + fetch_parler(\"goat fucker\", 10)\n",
        "parler_data = parler_data + fetch_parler(\"radical muslim\", 15)\n",
        "parler_data = parler_data + fetch_parler(\"islamic\", 30)"
      ]
    },
    {
      "cell_type": "code",
      "execution_count": null,
      "metadata": {
        "id": "Qo0MHmKezaWW"
      },
      "outputs": [],
      "source": [
        "# moderate data?\n",
        "moderate_parler_data = moderate_parler_data + fetch_parler(\"women\", 5)\n",
        "moderate_parler_data = moderate_parler_data + fetch_parler(\"guns\", 5)\n",
        "moderate_parler_data = moderate_parler_data + fetch_parler(\"bomb\", 5)\n",
        "moderate_parler_data = moderate_parler_data + fetch_parler(\"christians\", 5)\n",
        "moderate_parler_data = moderate_parler_data + fetch_parler(\"white\", 5)\n",
        "moderate_parler_data = moderate_parler_data + fetch_parler(\"soup\", 3)\n",
        "moderate_parler_data = moderate_parler_data + fetch_parler(\"tomato\", 2)\n",
        "moderate_parler_data = moderate_parler_data + fetch_parler(\"pancake\", 1)\n",
        "moderate_parler_data = moderate_parler_data + fetch_parler(\"discord\", 1)\n",
        "moderate_parler_data = moderate_parler_data + fetch_parler(\"google\", 1)\n",
        "moderate_parler_data = moderate_parler_data + fetch_parler(\"tech\", 2)\n",
        "# we want to capture other controversial topics that are \"neutral\"\n",
        "moderate_parler_data = moderate_parler_data + fetch_parler(\"terrorist\", 4)\n",
        "moderate_parler_data = moderate_parler_data + fetch_parler(\"lgbtq\", 6)\n",
        "moderate_parler_data = moderate_parler_data + fetch_parler(\"black\", 7)"
      ]
    },
    {
      "cell_type": "code",
      "execution_count": null,
      "metadata": {
        "id": "dv_YJBaq0hTv"
      },
      "outputs": [],
      "source": [
        "# turn it into a dataframe\n",
        "\n",
        "import pandas as pd\n",
        "\n",
        "parler_data = [[x, \"muslim\"] for x in parler_data]\n",
        "moderate_parler_data = [[x, \"other\"] for x in moderate_parler_data]\n",
        "\n",
        "parler_data_df = pd.DataFrame(parler_data, columns=['Text', 'Label'])\n",
        "moderate_parler_data_df = pd.DataFrame(moderate_parler_data, columns=['Text', 'Label'])\n",
        "\n",
        "combined_parler_df = pd.concat([moderate_parler_data_df, parler_data_df])"
      ]
    },
    {
      "cell_type": "code",
      "execution_count": null,
      "metadata": {
        "colab": {
          "base_uri": "https://localhost:8080/"
        },
        "id": "otyiknVe0vrX",
        "outputId": "7d0505e3-cd10-447e-eda2-e292c8ecdf96"
      },
      "outputs": [
        {
          "name": "stdout",
          "output_type": "stream",
          "text": [
            "<class 'pandas.core.frame.DataFrame'>\n",
            "Int64Index: 13950 entries, 0 to 10999\n",
            "Data columns (total 2 columns):\n",
            " #   Column  Non-Null Count  Dtype \n",
            "---  ------  --------------  ----- \n",
            " 0   Text    13950 non-null  object\n",
            " 1   Label   13950 non-null  object\n",
            "dtypes: object(2)\n",
            "memory usage: 327.0+ KB\n"
          ]
        }
      ],
      "source": [
        "combined_parler_df.info()"
      ]
    },
    {
      "cell_type": "code",
      "execution_count": null,
      "metadata": {
        "id": "m4YlHer43tXN"
      },
      "outputs": [],
      "source": [
        "combined_parler_df_final.to_csv('combined_parler_messages.csv', index=False)"
      ]
    },
    {
      "cell_type": "markdown",
      "metadata": {
        "id": "fdsnkVtHdr-6"
      },
      "source": [
        "# **2: Data Processing**\n",
        "---\n",
        "\n",
        "Normal data into classes & trim unwanted text.\n",
        "\n",
        "Export as .csv\n"
      ]
    },
    {
      "cell_type": "code",
      "execution_count": null,
      "metadata": {
        "id": "V7GCC1LDiCGg"
      },
      "outputs": [],
      "source": [
        "import pandas as pd"
      ]
    },
    {
      "cell_type": "code",
      "execution_count": null,
      "metadata": {
        "colab": {
          "base_uri": "https://localhost:8080/",
          "height": 205
        },
        "id": "AdoUqQoEd6_j",
        "outputId": "2c634ba6-b58e-45c6-8630-7c6b8f51e906"
      },
      "outputs": [
        {
          "data": {
            "text/html": [
              "<div>\n",
              "<style scoped>\n",
              "    .dataframe tbody tr th:only-of-type {\n",
              "        vertical-align: middle;\n",
              "    }\n",
              "\n",
              "    .dataframe tbody tr th {\n",
              "        vertical-align: top;\n",
              "    }\n",
              "\n",
              "    .dataframe thead th {\n",
              "        text-align: right;\n",
              "    }\n",
              "</style>\n",
              "<table border=\"1\" class=\"dataframe\">\n",
              "  <thead>\n",
              "    <tr style=\"text-align: right;\">\n",
              "      <th></th>\n",
              "      <th>Text</th>\n",
              "      <th>Label</th>\n",
              "    </tr>\n",
              "  </thead>\n",
              "  <tbody>\n",
              "    <tr>\n",
              "      <th>0</th>\n",
              "      <td>'@Cricket_Mann And they will see more of it no...</td>\n",
              "      <td>0</td>\n",
              "    </tr>\n",
              "    <tr>\n",
              "      <th>1</th>\n",
              "      <td>\"Juma'at Kareem to all my Muslim brother aroun...</td>\n",
              "      <td>1</td>\n",
              "    </tr>\n",
              "    <tr>\n",
              "      <th>2</th>\n",
              "      <td>'Thorpe becomes England head coach for Pakista...</td>\n",
              "      <td>0</td>\n",
              "    </tr>\n",
              "    <tr>\n",
              "      <th>3</th>\n",
              "      <td>'@ParZevil Plymouth Cricket. THREE transmissions.</td>\n",
              "      <td>0</td>\n",
              "    </tr>\n",
              "    <tr>\n",
              "      <th>4</th>\n",
              "      <td>'jungkook didnâ€™t get caught eating food duri...</td>\n",
              "      <td>1</td>\n",
              "    </tr>\n",
              "  </tbody>\n",
              "</table>\n",
              "</div>"
            ],
            "text/plain": [
              "                                                Text  Label\n",
              "0  '@Cricket_Mann And they will see more of it no...      0\n",
              "1  \"Juma'at Kareem to all my Muslim brother aroun...      1\n",
              "2  'Thorpe becomes England head coach for Pakista...      0\n",
              "3  '@ParZevil Plymouth Cricket. THREE transmissions.      0\n",
              "4  'jungkook didnâ€™t get caught eating food duri...      1"
            ]
          },
          "execution_count": 76,
          "metadata": {},
          "output_type": "execute_result"
        }
      ],
      "source": [
        "\"\"\"\n",
        "Data from: https://jewlscholar.mtsu.edu/items/9c7d6ec2-661a-40b7-a945-f63280529844\n",
        "Three classes:\n",
        "2 - Islamophobic \n",
        "1 - About Islam Not Islamophobic \n",
        "0 - Neither Islamophobic Nor About \n",
        "\"\"\"\n",
        "ds1 = pd.read_csv(\"english-anot-shuffled.csv\")\n",
        "ds1.head(5)"
      ]
    },
    {
      "cell_type": "code",
      "execution_count": null,
      "metadata": {
        "colab": {
          "base_uri": "https://localhost:8080/",
          "height": 205
        },
        "id": "Lp1z_hyce4xX",
        "outputId": "b90448ad-5ab8-4793-dba3-5a188652c393"
      },
      "outputs": [
        {
          "data": {
            "text/html": [
              "<div>\n",
              "<style scoped>\n",
              "    .dataframe tbody tr th:only-of-type {\n",
              "        vertical-align: middle;\n",
              "    }\n",
              "\n",
              "    .dataframe tbody tr th {\n",
              "        vertical-align: top;\n",
              "    }\n",
              "\n",
              "    .dataframe thead th {\n",
              "        text-align: right;\n",
              "    }\n",
              "</style>\n",
              "<table border=\"1\" class=\"dataframe\">\n",
              "  <thead>\n",
              "    <tr style=\"text-align: right;\">\n",
              "      <th></th>\n",
              "      <th>text</th>\n",
              "      <th>label</th>\n",
              "      <th>target</th>\n",
              "    </tr>\n",
              "  </thead>\n",
              "  <tbody>\n",
              "    <tr>\n",
              "      <th>0</th>\n",
              "      <td>dalits are lowlives</td>\n",
              "      <td>hate</td>\n",
              "      <td>notgiven</td>\n",
              "    </tr>\n",
              "    <tr>\n",
              "      <th>1</th>\n",
              "      <td>gay people are a burden to our society</td>\n",
              "      <td>hate</td>\n",
              "      <td>notgiven</td>\n",
              "    </tr>\n",
              "    <tr>\n",
              "      <th>2</th>\n",
              "      <td>Arabs are not welcome</td>\n",
              "      <td>hate</td>\n",
              "      <td>notgiven</td>\n",
              "    </tr>\n",
              "    <tr>\n",
              "      <th>3</th>\n",
              "      <td>I'm not saying we should actually eliminate he...</td>\n",
              "      <td>hate</td>\n",
              "      <td>notgiven</td>\n",
              "    </tr>\n",
              "    <tr>\n",
              "      <th>4</th>\n",
              "      <td>bananas are for black people</td>\n",
              "      <td>hate</td>\n",
              "      <td>notgiven</td>\n",
              "    </tr>\n",
              "  </tbody>\n",
              "</table>\n",
              "</div>"
            ],
            "text/plain": [
              "                                                text label    target\n",
              "0                                dalits are lowlives  hate  notgiven\n",
              "1             gay people are a burden to our society  hate  notgiven\n",
              "2                              Arabs are not welcome  hate  notgiven\n",
              "3  I'm not saying we should actually eliminate he...  hate  notgiven\n",
              "4                       bananas are for black people  hate  notgiven"
            ]
          },
          "execution_count": 152,
          "metadata": {},
          "output_type": "execute_result"
        }
      ],
      "source": [
        "\"\"\"\n",
        "Data from: https://github.com/bvidgen/Dynamically-Generated-Hate-Speech-Dataset/\n",
        "Two labels:\n",
        "hate - Not hate speech\n",
        "notehate - Not hate speech\n",
        "\n",
        "Target:\n",
        "notgiven for most, but present in some, so keep this for re-labeling.\n",
        "\n",
        "Drop type, level, split, round, annotator, round, and acl.*\n",
        "\"\"\"\n",
        "ds2 = pd.read_csv(\"dynamically-generated-hate.csv\").drop(['Unnamed: 0', 'acl.id', 'type', 'level','split','round.base','annotator','round','acl.id.matched', 'X1'],axis=1)\n",
        "ds2.head(5)"
      ]
    },
    {
      "cell_type": "code",
      "execution_count": null,
      "metadata": {
        "colab": {
          "base_uri": "https://localhost:8080/",
          "height": 205
        },
        "id": "d_M70zfWfsUa",
        "outputId": "9bd4f82b-52b1-4cfe-8c05-4d31f14b526d"
      },
      "outputs": [
        {
          "data": {
            "text/html": [
              "<div>\n",
              "<style scoped>\n",
              "    .dataframe tbody tr th:only-of-type {\n",
              "        vertical-align: middle;\n",
              "    }\n",
              "\n",
              "    .dataframe tbody tr th {\n",
              "        vertical-align: top;\n",
              "    }\n",
              "\n",
              "    .dataframe thead th {\n",
              "        text-align: right;\n",
              "    }\n",
              "</style>\n",
              "<table border=\"1\" class=\"dataframe\">\n",
              "  <thead>\n",
              "    <tr style=\"text-align: right;\">\n",
              "      <th></th>\n",
              "      <th>HATE_SPEECH</th>\n",
              "      <th>COUNTER_NARRATIVE</th>\n",
              "      <th>TARGET</th>\n",
              "    </tr>\n",
              "  </thead>\n",
              "  <tbody>\n",
              "    <tr>\n",
              "      <th>0</th>\n",
              "      <td>Maybe the UN could talk to those asian and afr...</td>\n",
              "      <td>You're right, ocean pollution is one of the ma...</td>\n",
              "      <td>other</td>\n",
              "    </tr>\n",
              "    <tr>\n",
              "      <th>1</th>\n",
              "      <td>‘Juice (Jews) are worse that nukes.’ Caption t...</td>\n",
              "      <td>You'd rather be nuked then?</td>\n",
              "      <td>JEWS</td>\n",
              "    </tr>\n",
              "    <tr>\n",
              "      <th>2</th>\n",
              "      <td>Foreigners on UK benefits leaps 41% in 5 years...</td>\n",
              "      <td>You seem to be worried about government expend...</td>\n",
              "      <td>MIGRANTS</td>\n",
              "    </tr>\n",
              "    <tr>\n",
              "      <th>3</th>\n",
              "      <td>Jews cannot be patriots, since their allegianc...</td>\n",
              "      <td>You can have parents and grandparents born els...</td>\n",
              "      <td>JEWS</td>\n",
              "    </tr>\n",
              "    <tr>\n",
              "      <th>4</th>\n",
              "      <td>Israel, Zionism and Jewish Supremacist control...</td>\n",
              "      <td>Wouldn't you say its colonialism from many dif...</td>\n",
              "      <td>JEWS</td>\n",
              "    </tr>\n",
              "  </tbody>\n",
              "</table>\n",
              "</div>"
            ],
            "text/plain": [
              "                                         HATE_SPEECH  ...    TARGET\n",
              "0  Maybe the UN could talk to those asian and afr...  ...     other\n",
              "1  ‘Juice (Jews) are worse that nukes.’ Caption t...  ...      JEWS\n",
              "2  Foreigners on UK benefits leaps 41% in 5 years...  ...  MIGRANTS\n",
              "3  Jews cannot be patriots, since their allegianc...  ...      JEWS\n",
              "4  Israel, Zionism and Jewish Supremacist control...  ...      JEWS\n",
              "\n",
              "[5 rows x 3 columns]"
            ]
          },
          "execution_count": 153,
          "metadata": {},
          "output_type": "execute_result"
        }
      ],
      "source": [
        "\"\"\"\n",
        "Data from: https://github.com/marcoguerini/CONAN\n",
        "All data in HATE_SPEECH column is hate speech\n",
        "TARGET shows the target of the hate speech\n",
        "\n",
        "Drop VERSION, INDEX\n",
        "\n",
        "COUNTER_NARRATIVE could be useful for negative data.\n",
        "\"\"\"\n",
        "ds3 = pd.read_csv(\"conan-target.csv\").drop(['VERSION', 'INDEX'],axis=1)\n",
        "ds3.head(5)"
      ]
    },
    {
      "cell_type": "code",
      "execution_count": null,
      "metadata": {
        "id": "QjnZombAiaWm"
      },
      "outputs": [],
      "source": [
        "\"\"\"\n",
        "Scrape tweets from: https://github.com/ninkle/hate-speech-detection\n",
        "Use only 'racism' tweets & none tweets \n",
        "\"\"\"\n",
        "hsd_tweet_ids = pd.read_csv(\"NAACL_SRW_2016.csv\")\n",
        "racist_tweet_ids = hsd_tweet_ids[ (hsd_tweet_ids[' label'] == \"racism\") ].iloc[:, 0].tolist()\n",
        "neutral_tweet_ids = hsd_tweet_ids[ (hsd_tweet_ids[' label'] == \"none\" ) ].iloc[:, 0].tolist()\n",
        "\n",
        "import tweepy \n",
        "\n",
        "auth = tweepy.OAuthHandler(\"<redacted>\",\"<redacted>\")\n",
        "auth.set_access_token(\"<redacted>\",\"<redacted>\")\n",
        "\n",
        "api = tweepy.API(auth, wait_on_rate_limit=True, wait_on_rate_limit_notify=True)\n",
        "\n",
        "neutral_dataframe = []\n",
        "racist_dataframe = []\n",
        "\n",
        "for id in racist_tweet_ids:\n",
        "  try:\n",
        "    tweet = api.get_status(id, tweet_mode='extended')\n",
        "    racist_dataframe.append([tweet._json[\"full_text\"], \"racist\"])\n",
        "  except Exception as e:\n",
        "    print(str(e))\n",
        "\n",
        "for id in neutral_tweet_ids[:1000]:\n",
        "  try:\n",
        "    tweet = api.get_status(id, tweet_mode='extended')\n",
        "    neutral_dataframe.append([tweet._json[\"full_text\"], \"none\"])\n",
        "  except Exception as e:\n",
        "    print(str(e))\n",
        "\n",
        "racist_dataframe = pd.DataFrame(racist_dataframe, columns=['Text','Label'])\n",
        "neutral_dataframe = pd.DataFrame(neutral_dataframe, columns=['Text','Label'])"
      ]
    },
    {
      "cell_type": "code",
      "execution_count": null,
      "metadata": {
        "id": "Tf9CgyRAnXmL"
      },
      "outputs": [],
      "source": [
        "racist_dataframe.to_csv(\"racist_tweets_racist.csv\", encoding=\"utf-8\")\n",
        "neutral_dataframe.to_csv(\"racist_tweets_neutral.csv\", encoding=\"utf-8\")"
      ]
    },
    {
      "cell_type": "code",
      "execution_count": null,
      "metadata": {
        "id": "E1Z1GzcfJLRh"
      },
      "outputs": [],
      "source": [
        "ds4 = pd.concat([racist_dataframe, neutral_dataframe])"
      ]
    },
    {
      "cell_type": "code",
      "execution_count": null,
      "metadata": {
        "id": "nwpv6WYmwWA7"
      },
      "outputs": [],
      "source": [
        "\"\"\"\n",
        "Process data.\n",
        "Unify text encoding to fix charset mismatch\n",
        "\"\"\"\n",
        "\n",
        "def fix_encoding(string):\n",
        "  return string.encode('cp1252', 'ignore').decode('utf-8', 'ignore')\n",
        "\n",
        "def fix_dataframe_encoding(dataframe):\n",
        "  for i, row in dataframe.iterrows():\n",
        "    for q in range(len(row)):\n",
        "      dataframe.at[i,dataframe.columns[q]] = fix_encoding(str(row[q]))\n",
        "  return dataframe"
      ]
    },
    {
      "cell_type": "code",
      "execution_count": null,
      "metadata": {
        "id": "51tltM-wGgdb"
      },
      "outputs": [],
      "source": [
        "dataframes = [ds1, ds2, ds3, ds4]\n",
        "for dataframe in dataframes:\n",
        "  dataframe = fix_dataframe_encoding(dataframe)"
      ]
    },
    {
      "cell_type": "code",
      "execution_count": null,
      "metadata": {
        "id": "PRIFQLSGIxGr"
      },
      "outputs": [],
      "source": [
        "ds1.to_csv('processed_data/english-anot-shuffled.csv', index=False)\n",
        "ds2.to_csv('processed_data/dynamically-generated-hate.csv', index=False)\n",
        "ds3.to_csv('processed_data/conan-target.csv', index=False)\n",
        "ds4.to_csv('processed_data/racist_tweets.csv', index=False)"
      ]
    },
    {
      "cell_type": "markdown",
      "metadata": {
        "id": "skVDItzfZJ5_"
      },
      "source": [
        "# **3. Model Training**\n",
        "\n"
      ]
    },
    {
      "cell_type": "markdown",
      "source": [
        "Here's the fun part. Now we initialize a Roberta-Large model to train, via the transformers and FastAI libraries"
      ],
      "metadata": {
        "id": "3l0b9xqos1jm"
      }
    },
    {
      "cell_type": "code",
      "execution_count": null,
      "metadata": {
        "colab": {
          "base_uri": "https://localhost:8080/"
        },
        "id": "ePYvO1MEZO92",
        "outputId": "609719c5-921e-434c-cdb5-8422532878ba"
      },
      "outputs": [
        {
          "name": "stdout",
          "output_type": "stream",
          "text": [
            "Collecting sentencepiece\n",
            "  Downloading sentencepiece-0.1.96-cp37-cp37m-manylinux_2_17_x86_64.manylinux2014_x86_64.whl (1.2 MB)\n",
            "Installing collected packages: sentencepiece\n",
            "Successfully installed sentencepiece-0.1.96\n"
          ]
        }
      ],
      "source": [
        "# install needed libraries\n",
        "%%bash\n",
        "pip install -q transformers\n",
        "pip install sentencepiece # needed more bigger models"
      ]
    },
    {
      "cell_type": "code",
      "execution_count": null,
      "metadata": {
        "id": "kNiAwpU8ZW4X"
      },
      "outputs": [],
      "source": [
        "import numpy as np # linear algebra\n",
        "import pandas as pd # data processing, CSV file I/O (e.g. pd.read_csv)\n",
        "from pathlib import Path \n",
        "\n",
        "import os\n",
        "\n",
        "import torch\n",
        "import torch.optim as optim\n",
        "\n",
        "import random \n",
        "\n",
        "# fastai\n",
        "from fastai import *\n",
        "from fastai.text import *\n",
        "from fastai.callbacks import *\n",
        "import fastai\n",
        "\n",
        "# transformers\n",
        "import transformers\n",
        "from transformers import PreTrainedModel, PreTrainedTokenizer, PretrainedConfig\n",
        "from transformers import RobertaForSequenceClassification, RobertaTokenizer, RobertaConfig"
      ]
    },
    {
      "cell_type": "code",
      "execution_count": null,
      "metadata": {
        "colab": {
          "base_uri": "https://localhost:8080/",
          "height": 202
        },
        "id": "US2IlOOQZeQq",
        "outputId": "4b070553-62f3-4ceb-90a3-3b8f2e9ead39"
      },
      "outputs": [
        {
          "data": {
            "text/html": [
              "<div>\n",
              "<style scoped>\n",
              "    .dataframe tbody tr th:only-of-type {\n",
              "        vertical-align: middle;\n",
              "    }\n",
              "\n",
              "    .dataframe tbody tr th {\n",
              "        vertical-align: top;\n",
              "    }\n",
              "\n",
              "    .dataframe thead th {\n",
              "        text-align: right;\n",
              "    }\n",
              "</style>\n",
              "<table border=\"1\" class=\"dataframe\">\n",
              "  <thead>\n",
              "    <tr style=\"text-align: right;\">\n",
              "      <th></th>\n",
              "      <th>Labels</th>\n",
              "      <th>Unnamed: 1</th>\n",
              "      <th>Unnamed: 2</th>\n",
              "      <th>Unnamed: 3</th>\n",
              "      <th>Ground Truth</th>\n",
              "      <th>Unnamed: 5</th>\n",
              "    </tr>\n",
              "  </thead>\n",
              "  <tbody>\n",
              "    <tr>\n",
              "      <th>0</th>\n",
              "      <td>Neutral</td>\n",
              "      <td>0</td>\n",
              "      <td>NaN</td>\n",
              "      <td>NaN</td>\n",
              "      <td>NaN</td>\n",
              "      <td>NaN</td>\n",
              "    </tr>\n",
              "    <tr>\n",
              "      <th>1</th>\n",
              "      <td>Cultural/Racial</td>\n",
              "      <td>1</td>\n",
              "      <td>NaN</td>\n",
              "      <td>NaN</td>\n",
              "      <td>NaN</td>\n",
              "      <td>NaN</td>\n",
              "    </tr>\n",
              "    <tr>\n",
              "      <th>2</th>\n",
              "      <td>- Cultural/Racial bias is negative speech towa...</td>\n",
              "      <td>NaN</td>\n",
              "      <td>NaN</td>\n",
              "      <td>NaN</td>\n",
              "      <td>NaN</td>\n",
              "      <td>NaN</td>\n",
              "    </tr>\n",
              "    <tr>\n",
              "      <th>3</th>\n",
              "      <td>- Not necessarily negative speech towards a Mu...</td>\n",
              "      <td>NaN</td>\n",
              "      <td>NaN</td>\n",
              "      <td>NaN</td>\n",
              "      <td>NaN</td>\n",
              "      <td>NaN</td>\n",
              "    </tr>\n",
              "    <tr>\n",
              "      <th>4</th>\n",
              "      <td>Violence/Terrorism</td>\n",
              "      <td>2</td>\n",
              "      <td>NaN</td>\n",
              "      <td>NaN</td>\n",
              "      <td>NaN</td>\n",
              "      <td>NaN</td>\n",
              "    </tr>\n",
              "  </tbody>\n",
              "</table>\n",
              "</div>"
            ],
            "text/plain": [
              "                                              Labels  ... Unnamed: 5\n",
              "0                                           Neutral   ...        NaN\n",
              "1                                    Cultural/Racial  ...        NaN\n",
              "2  - Cultural/Racial bias is negative speech towa...  ...        NaN\n",
              "3  - Not necessarily negative speech towards a Mu...  ...        NaN\n",
              "4                                 Violence/Terrorism  ...        NaN\n",
              "\n",
              "[5 rows x 6 columns]"
            ]
          },
          "execution_count": 4,
          "metadata": {},
          "output_type": "execute_result"
        }
      ],
      "source": [
        "DATA_ROOT = Path(\"..\") / \"/content\"\n",
        "train = pd.read_csv(DATA_ROOT / 'ap_lit_2.csv') # read and verify the data\n",
        "train.head()"
      ]
    },
    {
      "cell_type": "code",
      "execution_count": null,
      "metadata": {
        "colab": {
          "base_uri": "https://localhost:8080/"
        },
        "id": "u835L2H0Zi0d",
        "outputId": "9698a0ad-19cc-4edb-eb2e-8923dba81a28"
      },
      "outputs": [
        {
          "data": {
            "text/plain": [
              "array(['0.0', '1.0', '2.0'], dtype=object)"
            ]
          },
          "execution_count": 5,
          "metadata": {},
          "output_type": "execute_result"
        }
      ],
      "source": [
        "# clean up data\n",
        "# drop the empty columes\n",
        "train = train.drop(train.columns[2], axis=1) \n",
        "train = train.drop(train.columns[1], axis=1)\n",
        "train = train.drop(train.columns[3], axis=1)\n",
        "train = train.drop(train.columns[2], axis=1)\n",
        "\n",
        "# drop empty rows\n",
        "train.dropna(inplace=True)\n",
        "train = train.reset_index(drop=True)\n",
        "\n",
        "# cast the classes to strings\n",
        "train['Unnamed: 3'] = train['Unnamed: 3'].astype(str)\n",
        "train[\"Unnamed: 3\"].unique()"
      ]
    },
    {
      "cell_type": "code",
      "execution_count": null,
      "metadata": {
        "colab": {
          "base_uri": "https://localhost:8080/",
          "height": 171
        },
        "id": "tp2wwjePyuP6",
        "outputId": "7f5599d8-8bbc-4237-dadb-4403e0945429"
      },
      "outputs": [
        {
          "data": {
            "text/html": [
              "<div>\n",
              "<style scoped>\n",
              "    .dataframe tbody tr th:only-of-type {\n",
              "        vertical-align: middle;\n",
              "    }\n",
              "\n",
              "    .dataframe tbody tr th {\n",
              "        vertical-align: top;\n",
              "    }\n",
              "\n",
              "    .dataframe thead th {\n",
              "        text-align: right;\n",
              "    }\n",
              "</style>\n",
              "<table border=\"1\" class=\"dataframe\">\n",
              "  <thead>\n",
              "    <tr style=\"text-align: right;\">\n",
              "      <th></th>\n",
              "      <th>Labels</th>\n",
              "      <th>Unnamed: 3</th>\n",
              "    </tr>\n",
              "  </thead>\n",
              "  <tbody>\n",
              "    <tr>\n",
              "      <th>0</th>\n",
              "      <td>@Cricket_Mann And they will see more of it now...</td>\n",
              "      <td>0.0</td>\n",
              "    </tr>\n",
              "    <tr>\n",
              "      <th>1</th>\n",
              "      <td>\"Juma'at Kareem to all my Muslim brother aroun...</td>\n",
              "      <td>0.0</td>\n",
              "    </tr>\n",
              "    <tr>\n",
              "      <th>2</th>\n",
              "      <td>Thorpe becomes England head coach for Pakistan...</td>\n",
              "      <td>0.0</td>\n",
              "    </tr>\n",
              "    <tr>\n",
              "      <th>3</th>\n",
              "      <td>@ParZevil Plymouth Cricket. THREE transmissions.</td>\n",
              "      <td>0.0</td>\n",
              "    </tr>\n",
              "  </tbody>\n",
              "</table>\n",
              "</div>"
            ],
            "text/plain": [
              "                                              Labels Unnamed: 3\n",
              "0  @Cricket_Mann And they will see more of it now...        0.0\n",
              "1  \"Juma'at Kareem to all my Muslim brother aroun...        0.0\n",
              "2  Thorpe becomes England head coach for Pakistan...        0.0\n",
              "3   @ParZevil Plymouth Cricket. THREE transmissions.        0.0"
            ]
          },
          "execution_count": 6,
          "metadata": {},
          "output_type": "execute_result"
        }
      ],
      "source": [
        "train.head(4)"
      ]
    },
    {
      "cell_type": "markdown",
      "source": [
        "Let's take a look at distribution and see how balanced the data is."
      ],
      "metadata": {
        "id": "AYQVjKKNtGCA"
      }
    },
    {
      "cell_type": "code",
      "execution_count": null,
      "metadata": {
        "colab": {
          "base_uri": "https://localhost:8080/"
        },
        "id": "sdpPU8p2y5c3",
        "outputId": "b765d80b-79c7-4cdc-b6a7-93f1d7aceb44"
      },
      "outputs": [
        {
          "data": {
            "text/plain": [
              "Counter({'0.0': 8935, '1.0': 1417, '2.0': 1342})"
            ]
          },
          "execution_count": 7,
          "metadata": {},
          "output_type": "execute_result"
        }
      ],
      "source": [
        "from collections import Counter\n",
        "Counter(train[\"Unnamed: 3\"]) "
      ]
    },
    {
      "cell_type": "code",
      "execution_count": null,
      "metadata": {
        "id": "Z3UpIksLZ71J"
      },
      "outputs": [],
      "source": [
        "# if we want to merge 1 + 2 \n",
        "# train[\"Unnamed: 3\"] = train[\"Unnamed: 3\"].replace([20.0, 10.0, 2.0], 1.0)"
      ]
    },
    {
      "cell_type": "markdown",
      "source": [
        "Seems fine. Now, initialize Roberta classes from transformers and set hyperparameters\n",
        "\n",
        "fp32 was nominally better than fp16, so we kept that off\n",
        "\n",
        "bs = 8 was what we could fit on a P100 without using fp16\n",
        "\n",
        "roberta-large has a better grasp of language nuances compared to base"
      ],
      "metadata": {
        "id": "o289hKK5tM6j"
      }
    },
    {
      "cell_type": "code",
      "execution_count": null,
      "metadata": {
        "id": "zrwlAJsuZ-4E"
      },
      "outputs": [],
      "source": [
        "MODEL_CLASSES = {\n",
        "    'roberta': (RobertaForSequenceClassification, RobertaTokenizer, RobertaConfig)\n",
        "}\n",
        "\n",
        "seed = 45\n",
        "use_fp16 = False # doesn't work as well with fp16 on rb\n",
        "model_type = 'roberta'\n",
        "pretrained_model_name = 'roberta-large' \n",
        "bs = 8\n",
        "\n",
        "model_class, tokenizer_class, config_class = MODEL_CLASSES[model_type]"
      ]
    },
    {
      "cell_type": "code",
      "execution_count": null,
      "metadata": {
        "id": "P-tTfEiJaMGt"
      },
      "outputs": [],
      "source": [
        "# Seed rngs\n",
        "def seed_all(seed_value):\n",
        "    random.seed(seed_value) # Python\n",
        "    np.random.seed(seed_value) # cpu vars\n",
        "    torch.manual_seed(seed_value) # cpu  vars\n",
        "    \n",
        "    if torch.cuda.is_available(): \n",
        "        torch.cuda.manual_seed(seed_value)\n",
        "        torch.cuda.manual_seed_all(seed_value) # gpu vars\n",
        "        torch.backends.cudnn.deterministic = True  #needed\n",
        "        torch.backends.cudnn.benchmark = False\n",
        "\n",
        "seed_all(seed)"
      ]
    },
    {
      "cell_type": "markdown",
      "metadata": {
        "id": "KAPt4D12aQFm"
      },
      "source": [
        "## Tokenize & Bunch Data"
      ]
    },
    {
      "cell_type": "code",
      "execution_count": null,
      "metadata": {
        "colab": {
          "base_uri": "https://localhost:8080/"
        },
        "id": "zV5Y18XbaSRn",
        "outputId": "73e6cdb2-4caa-4ccd-9721-89312b904ba1"
      },
      "outputs": [
        {
          "name": "stdout",
          "output_type": "stream",
          "text": [
            "roberta-large PreTrainedTokenizer(name_or_path='roberta-large', vocab_size=50265, model_max_len=512, is_fast=False, padding_side='right', special_tokens={'bos_token': AddedToken(\"<s>\", rstrip=False, lstrip=False, single_word=False, normalized=True), 'eos_token': AddedToken(\"</s>\", rstrip=False, lstrip=False, single_word=False, normalized=True), 'unk_token': AddedToken(\"<unk>\", rstrip=False, lstrip=False, single_word=False, normalized=True), 'sep_token': AddedToken(\"</s>\", rstrip=False, lstrip=False, single_word=False, normalized=True), 'pad_token': AddedToken(\"<pad>\", rstrip=False, lstrip=False, single_word=False, normalized=True), 'cls_token': AddedToken(\"<s>\", rstrip=False, lstrip=False, single_word=False, normalized=True), 'mask_token': AddedToken(\"<mask>\", rstrip=False, lstrip=True, single_word=False, normalized=True)})\n"
          ]
        }
      ],
      "source": [
        "class TransformersBaseTokenizer(BaseTokenizer):\n",
        "    \"\"\"Wrapper around PreTrainedTokenizer to be compatible with fast.ai\"\"\"\n",
        "    def __init__(self, pretrained_tokenizer: PreTrainedTokenizer, model_type = 'bert', **kwargs):\n",
        "        self._pretrained_tokenizer = pretrained_tokenizer\n",
        "        self.max_seq_len = 128\n",
        "        self.model_type = model_type\n",
        "\n",
        "    def __call__(self, *args, **kwargs): \n",
        "        return self\n",
        "\n",
        "    def tokenizer(self, t:str) -> List[str]:\n",
        "        \"\"\"Limits the maximum sequence length and add the spesial tokens\"\"\"\n",
        "        CLS = self._pretrained_tokenizer.cls_token\n",
        "        SEP = self._pretrained_tokenizer.sep_token\n",
        "        if self.model_type in ['roberta']:\n",
        "            tokens = self._pretrained_tokenizer.tokenize(t, add_prefix_space=True)[:self.max_seq_len - 2]\n",
        "            tokens = [CLS] + tokens + [SEP]\n",
        "        else:\n",
        "            tokens = self._pretrained_tokenizer.tokenize(t)[:self.max_seq_len - 2]\n",
        "            if self.model_type in ['xlnet']:\n",
        "                tokens = tokens + [SEP] +  [CLS]\n",
        "            else:\n",
        "                tokens = [CLS] + tokens + [SEP]\n",
        "        return tokens\n",
        "\n",
        "transformer_tokenizer = tokenizer_class.from_pretrained(pretrained_model_name)\n",
        "print(pretrained_model_name, transformer_tokenizer)\n",
        "transformer_base_tokenizer = TransformersBaseTokenizer(pretrained_tokenizer = transformer_tokenizer, model_type = model_type)\n",
        "fastai_tokenizer = Tokenizer(tok_func = transformer_base_tokenizer, pre_rules=[], post_rules=[])"
      ]
    },
    {
      "cell_type": "code",
      "execution_count": null,
      "metadata": {
        "id": "LnRGlRaaaVDZ"
      },
      "outputs": [],
      "source": [
        "class TransformersVocab(Vocab):\n",
        "    def __init__(self, tokenizer: PreTrainedTokenizer):\n",
        "        super(TransformersVocab, self).__init__(itos = [])\n",
        "        self.tokenizer = tokenizer\n",
        "    \n",
        "    def numericalize(self, t:Collection[str]) -> List[int]:\n",
        "        \"Convert a list of tokens `t` to their ids.\"\n",
        "        return self.tokenizer.convert_tokens_to_ids(t)\n",
        "        #return self.tokenizer.encode(t)\n",
        "\n",
        "    def textify(self, nums:Collection[int], sep=' ') -> List[str]:\n",
        "        \"Convert a list of `nums` to their tokens.\"\n",
        "        nums = np.array(nums).tolist()\n",
        "        return sep.join(self.tokenizer.convert_ids_to_tokens(nums)) if sep is not None else self.tokenizer.convert_ids_to_tokens(nums)\n",
        "    \n",
        "    def __getstate__(self):\n",
        "        return {'itos':self.itos, 'tokenizer':self.tokenizer}\n",
        "\n",
        "    def __setstate__(self, state:dict):\n",
        "        self.itos = state['itos']\n",
        "        self.tokenizer = state['tokenizer']\n",
        "        self.stoi = collections.defaultdict(int,{v:k for k,v in enumerate(self.itos)})\n",
        "\n",
        "transformer_vocab =  TransformersVocab(tokenizer = transformer_tokenizer)\n",
        "numericalize_processor = NumericalizeProcessor(vocab=transformer_vocab)\n",
        "\n",
        "tokenize_processor = TokenizeProcessor(tokenizer=fastai_tokenizer, include_bos=False, include_eos=False)\n",
        "\n",
        "transformer_processor = [tokenize_processor, numericalize_processor]"
      ]
    },
    {
      "cell_type": "code",
      "execution_count": null,
      "metadata": {
        "colab": {
          "base_uri": "https://localhost:8080/",
          "height": 345
        },
        "id": "xcWxKmqbabsN",
        "outputId": "1171aa10-e039-4968-c584-0015b40b4cf3"
      },
      "outputs": [
        {
          "name": "stdout",
          "output_type": "stream",
          "text": [
            "['Testing', ',', 'Ġ123', '.', 'ĠDoes', 'Ġthis', 'Ġwork', '?']\n"
          ]
        },
        {
          "data": {
            "text/html": [
              ""
            ],
            "text/plain": [
              "<IPython.core.display.HTML object>"
            ]
          },
          "metadata": {},
          "output_type": "display_data"
        },
        {
          "name": "stderr",
          "output_type": "stream",
          "text": [
            "/usr/local/lib/python3.7/dist-packages/fastai/core.py:302: VisibleDeprecationWarning: Creating an ndarray from ragged nested sequences (which is a list-or-tuple of lists-or-tuples-or ndarrays with different lengths or shapes) is deprecated. If you meant to do this, you must specify 'dtype=object' when creating the ndarray\n",
            "  return np.array(a, dtype=dtype, **kwargs)\n"
          ]
        },
        {
          "data": {
            "text/html": [
              ""
            ],
            "text/plain": [
              "<IPython.core.display.HTML object>"
            ]
          },
          "metadata": {},
          "output_type": "display_data"
        },
        {
          "name": "stderr",
          "output_type": "stream",
          "text": [
            "/usr/local/lib/python3.7/dist-packages/numpy/core/_asarray.py:83: VisibleDeprecationWarning: Creating an ndarray from ragged nested sequences (which is a list-or-tuple of lists-or-tuples-or ndarrays with different lengths or shapes) is deprecated. If you meant to do this, you must specify 'dtype=object' when creating the ndarray\n",
            "  return array(a, dtype, copy=False, order=order)\n",
            "<string>:6: VisibleDeprecationWarning: Creating an ndarray from ragged nested sequences (which is a list-or-tuple of lists-or-tuples-or ndarrays with different lengths or shapes) is deprecated. If you meant to do this, you must specify 'dtype=object' when creating the ndarray\n"
          ]
        },
        {
          "data": {
            "text/html": [
              "<table border=\"1\" class=\"dataframe\">\n",
              "  <thead>\n",
              "    <tr style=\"text-align: right;\">\n",
              "      <th>text</th>\n",
              "      <th>target</th>\n",
              "    </tr>\n",
              "  </thead>\n",
              "  <tbody>\n",
              "    <tr>\n",
              "      <td>&lt;s&gt; Ġ@ G rete Th orn Ġ@ Open Min 05 346 188 Ġ@ Mike y 00 700 7 Ġ@ ber v am ro j avi Ġ@ L iver Of Life 3 Ġ@ cor joy Ġ@ Script e I ad ora Ġ@ a als aid 54 Ġ@ f pe rez 17 76 Ġ@ sun sh inem ind 4 Ġ@ k pp ot atoes Ġ@ sw ep al 1 Ġ@ Al Bi</td>\n",
              "      <td>0.0</td>\n",
              "    </tr>\n",
              "    <tr>\n",
              "      <td>&lt;s&gt; Ġ@ Free Log ic 67 Ġ@ no am 80 80 Ġ@ n if k ad im n oh ah im Ġ@ Free 2 sm ile 1 Ġ@ l ai el k ha Ġ@ ret ired j ude an Ġ@ NG Scott _ NZ Ġ@ f pe rez 17 76 Ġ@ mar iam t ay ob Ġ@ Josh _ P actor Ġ@ cor joy Ġ@ Mike y 00 700 7</td>\n",
              "      <td>0.0</td>\n",
              "    </tr>\n",
              "    <tr>\n",
              "      <td>&lt;s&gt; Ġ@ The Poor Man 95 Ġ@ d pm ug ford Ġ@ IM F letcher L ives Ġ@ All ie 4 Christ Ġ@ s ke ed uu Ġ@ J ets on 77 Ġ@ E than ol Free 90 Ġ@ Con cern edin P V Ġ@ g iddy _ b unny Ġ@ Its BT 50 Ġ@ Lady Of The Ocean 1 Ġ@ S inner _ L il ith Ġ@ way ward</td>\n",
              "      <td>2.0</td>\n",
              "    </tr>\n",
              "    <tr>\n",
              "      <td>&lt;s&gt; ĠThe Ġissue Ġof Ġanti - Ġsem itism Ġagainst ĠJews Ġis Ġknown Ġalready . ĠIt Ġis Ġaddressed Ġat Ġevery Ġlevel Ġof Ġpolitics . ĠFrom ĠIsrael Ġto ĠAmerica Ġto Ġthe ĠU . K . ĠHow Ġabout Ġthe Ġplight Ġof Ġthe Ġ500 , Ġ000 ĠWhite Ġgirls Ġraped Ġin Ġthe ĠU . K . Ġget Ġthe Ġsame Ġlevel Ġof Ġattention Ġas ĠAnti - Ġsem itism Ġand Ġthe Ġsame Ġamount Ġof Ġsupport Ġfrom Ġthe</td>\n",
              "      <td>1.0</td>\n",
              "    </tr>\n",
              "    <tr>\n",
              "      <td>&lt;s&gt; Ġ@ sun sh inem ind 4 Ġ@ sw ep al 1 Ġ@ m alk a av ram Ġ@ f pe rez 17 76 Ġ@ cor joy Ġ@ Mike y 00 700 7 Ġ@ n if k ad im n oh ah im Ġ@ no am 80 80 Ġ@ NG Scott _ NZ Ġ@ Free 2 sm ile 1 Ġ@ mar iam t ay ob Ġ@ ret ired j ude</td>\n",
              "      <td>0.0</td>\n",
              "    </tr>\n",
              "  </tbody>\n",
              "</table>"
            ],
            "text/plain": [
              "<IPython.core.display.HTML object>"
            ]
          },
          "metadata": {},
          "output_type": "display_data"
        }
      ],
      "source": [
        "# databunching\n",
        "pad_first = bool(model_type in ['xlnet'])\n",
        "pad_idx = transformer_tokenizer.pad_token_id\n",
        "\n",
        "# test tokenizer\n",
        "tokens = transformer_tokenizer.tokenize('Testing, 123. Does this work?')\n",
        "print(tokens)\n",
        "\n",
        "# again\n",
        "train = train.dropna()\n",
        "\n",
        "databunch = (TextList.from_df(train, cols='Labels', processor=transformer_processor)\n",
        "             .split_by_rand_pct(0.1,seed=seed) # 90 - 10,  train - valid split\n",
        "             .label_from_df(cols= 'Unnamed: 3')\n",
        "             .databunch(bs=bs, pad_first=pad_first, pad_idx=pad_idx))\n",
        "# view db\n",
        "databunch.show_batch()"
      ]
    },
    {
      "cell_type": "markdown",
      "metadata": {
        "id": "Fny6OVCgax2b"
      },
      "source": [
        "## Learner Model"
      ]
    },
    {
      "cell_type": "code",
      "execution_count": null,
      "metadata": {
        "colab": {
          "base_uri": "https://localhost:8080/"
        },
        "id": "T0-ozEbfaxNS",
        "outputId": "beddf64b-8009-4640-d78e-94e8fb2bced8"
      },
      "outputs": [
        {
          "name": "stdout",
          "output_type": "stream",
          "text": [
            "RobertaConfig {\n",
            "  \"architectures\": [\n",
            "    \"RobertaForMaskedLM\"\n",
            "  ],\n",
            "  \"attention_probs_dropout_prob\": 0.1,\n",
            "  \"bos_token_id\": 0,\n",
            "  \"classifier_dropout\": null,\n",
            "  \"eos_token_id\": 2,\n",
            "  \"hidden_act\": \"gelu\",\n",
            "  \"hidden_dropout_prob\": 0.1,\n",
            "  \"hidden_size\": 1024,\n",
            "  \"id2label\": {\n",
            "    \"0\": \"LABEL_0\",\n",
            "    \"1\": \"LABEL_1\",\n",
            "    \"2\": \"LABEL_2\"\n",
            "  },\n",
            "  \"initializer_range\": 0.02,\n",
            "  \"intermediate_size\": 4096,\n",
            "  \"label2id\": {\n",
            "    \"LABEL_0\": 0,\n",
            "    \"LABEL_1\": 1,\n",
            "    \"LABEL_2\": 2\n",
            "  },\n",
            "  \"layer_norm_eps\": 1e-05,\n",
            "  \"max_position_embeddings\": 514,\n",
            "  \"model_type\": \"roberta\",\n",
            "  \"num_attention_heads\": 16,\n",
            "  \"num_hidden_layers\": 24,\n",
            "  \"pad_token_id\": 1,\n",
            "  \"position_embedding_type\": \"absolute\",\n",
            "  \"transformers_version\": \"4.12.5\",\n",
            "  \"type_vocab_size\": 1,\n",
            "  \"use_cache\": true,\n",
            "  \"vocab_size\": 50265\n",
            "}\n",
            "\n"
          ]
        },
        {
          "name": "stderr",
          "output_type": "stream",
          "text": [
            "Some weights of the model checkpoint at roberta-large were not used when initializing RobertaForSequenceClassification: ['lm_head.dense.bias', 'roberta.pooler.dense.bias', 'lm_head.decoder.weight', 'lm_head.layer_norm.weight', 'lm_head.layer_norm.bias', 'roberta.pooler.dense.weight', 'lm_head.dense.weight', 'lm_head.bias']\n",
            "- This IS expected if you are initializing RobertaForSequenceClassification from the checkpoint of a model trained on another task or with another architecture (e.g. initializing a BertForSequenceClassification model from a BertForPreTraining model).\n",
            "- This IS NOT expected if you are initializing RobertaForSequenceClassification from the checkpoint of a model that you expect to be exactly identical (initializing a BertForSequenceClassification model from a BertForSequenceClassification model).\n",
            "Some weights of RobertaForSequenceClassification were not initialized from the model checkpoint at roberta-large and are newly initialized: ['classifier.dense.bias', 'classifier.dense.weight', 'classifier.out_proj.bias', 'classifier.out_proj.weight']\n",
            "You should probably TRAIN this model on a down-stream task to be able to use it for predictions and inference.\n"
          ]
        }
      ],
      "source": [
        "# defining our model architecture \n",
        "class CustomTransformerModel(nn.Module):\n",
        "    def __init__(self, transformer_model: PreTrainedModel):\n",
        "        super(CustomTransformerModel,self).__init__()\n",
        "        self.transformer = transformer_model\n",
        "        \n",
        "    def forward(self, input_ids, attention_mask=None):\n",
        "        \n",
        "        # attention_mask\n",
        "        # Mask to avoid performing attention on padding token indices.\n",
        "        # Mask values selected in ``[0, 1]``:\n",
        "        # ``1`` for tokens that are NOT MASKED, ``0`` for MASKED tokens.\n",
        "        attention_mask = (input_ids!=pad_idx).type(input_ids.type()) \n",
        "        \n",
        "        logits = self.transformer(input_ids,\n",
        "                                  attention_mask = attention_mask)[0]   \n",
        "        return logits\n",
        "\n",
        "config = config_class.from_pretrained(pretrained_model_name)\n",
        "config.num_labels = 3 # 0, 1, 2\n",
        "config.use_bfloat16 = use_fp16\n",
        "print(config)\n",
        "\n",
        "transformer_model = model_class.from_pretrained(pretrained_model_name, config = config)\n",
        "\n",
        "custom_transformer_model = CustomTransformerModel(transformer_model = transformer_model)\n",
        "\n",
        "from fastai.callbacks import *\n",
        "from transformers import AdamW\n",
        "from functools import partial\n",
        "\n",
        "CustomAdamW = partial(AdamW, correct_bias=False)\n",
        "\n",
        "learner = Learner(databunch, \n",
        "                  custom_transformer_model, \n",
        "                  opt_func = CustomAdamW, \n",
        "                  metrics=[accuracy, error_rate])\n",
        "\n",
        "# Show graph of learner stats and metrics after each epoch.\n",
        "learner.callbacks.append(ShowGraph(learner))\n",
        "\n",
        "# Put learn in FP16 precision mode. \n",
        "if use_fp16: learner = learner.to_fp16()"
      ]
    },
    {
      "cell_type": "code",
      "execution_count": null,
      "metadata": {
        "id": "_MpJ7DHja_4S"
      },
      "outputs": [],
      "source": [
        "# learner.summary()"
      ]
    },
    {
      "cell_type": "markdown",
      "metadata": {
        "id": "qhSQXkD59j9j"
      },
      "source": [
        "## Optional: Slice Model"
      ]
    },
    {
      "cell_type": "markdown",
      "source": [
        "We can slice the model to us variable learning rates for each layer. Yields nominally better results occassionally."
      ],
      "metadata": {
        "id": "vMhKGVslubGQ"
      }
    },
    {
      "cell_type": "code",
      "execution_count": null,
      "metadata": {
        "id": "qyS5pAlF9jC5"
      },
      "outputs": [],
      "source": [
        "list_layers = [learner.model.transformer.roberta.embeddings,\n",
        "              learner.model.transformer.roberta.encoder.layer[0],\n",
        "              learner.model.transformer.roberta.encoder.layer[1],\n",
        "              learner.model.transformer.roberta.encoder.layer[2],\n",
        "              learner.model.transformer.roberta.encoder.layer[3],\n",
        "              learner.model.transformer.roberta.encoder.layer[4],\n",
        "              learner.model.transformer.roberta.encoder.layer[5],\n",
        "              learner.model.transformer.roberta.encoder.layer[6],\n",
        "              learner.model.transformer.roberta.encoder.layer[7],\n",
        "              learner.model.transformer.roberta.encoder.layer[8],\n",
        "              learner.model.transformer.roberta.encoder.layer[9],\n",
        "              learner.model.transformer.roberta.encoder.layer[10],\n",
        "              learner.model.transformer.roberta.encoder.layer[11],\n",
        "              learner.model.transformer.roberta.encoder.layer[12],\n",
        "              learner.model.transformer.roberta.encoder.layer[13],\n",
        "              learner.model.transformer.roberta.encoder.layer[14],\n",
        "              learner.model.transformer.roberta.encoder.layer[15],\n",
        "              learner.model.transformer.roberta.encoder.layer[16],\n",
        "              learner.model.transformer.roberta.encoder.layer[17],\n",
        "              learner.model.transformer.roberta.encoder.layer[18],\n",
        "              learner.model.transformer.roberta.encoder.layer[19],\n",
        "              learner.model.transformer.roberta.encoder.layer[20],\n",
        "              learner.model.transformer.roberta.encoder.layer[21],\n",
        "              learner.model.transformer.roberta.encoder.layer[22],\n",
        "              learner.model.transformer.roberta.encoder.layer[23],\n",
        "              learner.model.transformer.classifier]\n"
      ]
    },
    {
      "cell_type": "code",
      "execution_count": null,
      "metadata": {
        "colab": {
          "base_uri": "https://localhost:8080/"
        },
        "id": "Wvaq1kfN947B",
        "outputId": "46aefc9a-17a6-4e2b-af00-fa929d572c90"
      },
      "outputs": [
        {
          "name": "stdout",
          "output_type": "stream",
          "text": [
            "Learner split in 26 groups\n"
          ]
        }
      ],
      "source": [
        "learner.split(list_layers)\n",
        "num_groups = len(learner.layer_groups)\n",
        "print('Learner split in',num_groups,'groups')"
      ]
    },
    {
      "cell_type": "code",
      "execution_count": null,
      "metadata": {
        "id": "2cIRvX8Q99kV"
      },
      "outputs": [],
      "source": [
        "learner.freeze_to(-1)"
      ]
    },
    {
      "cell_type": "code",
      "execution_count": null,
      "metadata": {
        "id": "h42nrDBJ9-1y"
      },
      "outputs": [],
      "source": [
        "learner.lr_find()\n",
        "learner.recorder.plot(skip_end=10,suggestion=True)"
      ]
    },
    {
      "cell_type": "code",
      "execution_count": null,
      "metadata": {
        "id": "l7cLgBMk-Kyp"
      },
      "outputs": [],
      "source": [
        "lr=1e-05\n",
        "learner.fit_one_cycle(4,max_lr=slice(lr*0.95**num_groups, lr), moms=(0.8,0.9), callbacks=[SaveModelCallback(learner,every='epoch', name='model_')])"
      ]
    },
    {
      "cell_type": "code",
      "execution_count": null,
      "metadata": {
        "colab": {
          "base_uri": "https://localhost:8080/",
          "height": 401
        },
        "id": "TkDh9TWb-f3e",
        "outputId": "8d7e9e60-54ca-4625-db8b-4e7e3dd89d68"
      },
      "outputs": [
        {
          "data": {
            "text/html": [
              "<table border=\"1\" class=\"dataframe\">\n",
              "  <thead>\n",
              "    <tr style=\"text-align: left;\">\n",
              "      <th>epoch</th>\n",
              "      <th>train_loss</th>\n",
              "      <th>valid_loss</th>\n",
              "      <th>accuracy</th>\n",
              "      <th>error_rate</th>\n",
              "      <th>time</th>\n",
              "    </tr>\n",
              "  </thead>\n",
              "  <tbody>\n",
              "    <tr>\n",
              "      <td>0</td>\n",
              "      <td>0.456281</td>\n",
              "      <td>0.340674</td>\n",
              "      <td>0.869974</td>\n",
              "      <td>0.130026</td>\n",
              "      <td>01:40</td>\n",
              "    </tr>\n",
              "  </tbody>\n",
              "</table>"
            ],
            "text/plain": [
              "<IPython.core.display.HTML object>"
            ]
          },
          "metadata": {},
          "output_type": "display_data"
        },
        {
          "name": "stderr",
          "output_type": "stream",
          "text": [
            "/usr/local/lib/python3.7/dist-packages/numpy/core/_asarray.py:83: VisibleDeprecationWarning: Creating an ndarray from ragged nested sequences (which is a list-or-tuple of lists-or-tuples-or ndarrays with different lengths or shapes) is deprecated. If you meant to do this, you must specify 'dtype=object' when creating the ndarray\n",
            "  return array(a, dtype, copy=False, order=order)\n",
            "<string>:6: VisibleDeprecationWarning: Creating an ndarray from ragged nested sequences (which is a list-or-tuple of lists-or-tuples-or ndarrays with different lengths or shapes) is deprecated. If you meant to do this, you must specify 'dtype=object' when creating the ndarray\n"
          ]
        },
        {
          "data": {
            "image/png": "[encoded data removed]",
            "text/plain": [
              "<Figure size 432x288 with 1 Axes>"
            ]
          },
          "metadata": {},
          "output_type": "display_data"
        }
      ],
      "source": [
        "learner.freeze_to(-2)\n",
        "learner.fit_one_cycle(1, max_lr=slice(lr*0.95**num_groups, lr), moms=(0.8, 0.9), callbacks=[SaveModelCallback(learner,every='epoch', name='model_'))"
      ]
    },
    {
      "cell_type": "code",
      "execution_count": null,
      "metadata": {
        "colab": {
          "base_uri": "https://localhost:8080/",
          "height": 401
        },
        "id": "i04ilCJ5-rj7",
        "outputId": "12b1cb22-a7c2-4baf-fb06-5275d9d18882"
      },
      "outputs": [
        {
          "data": {
            "text/html": [
              "<table border=\"1\" class=\"dataframe\">\n",
              "  <thead>\n",
              "    <tr style=\"text-align: left;\">\n",
              "      <th>epoch</th>\n",
              "      <th>train_loss</th>\n",
              "      <th>valid_loss</th>\n",
              "      <th>accuracy</th>\n",
              "      <th>error_rate</th>\n",
              "      <th>time</th>\n",
              "    </tr>\n",
              "  </thead>\n",
              "  <tbody>\n",
              "    <tr>\n",
              "      <td>0</td>\n",
              "      <td>0.354083</td>\n",
              "      <td>0.263038</td>\n",
              "      <td>0.897348</td>\n",
              "      <td>0.102652</td>\n",
              "      <td>01:53</td>\n",
              "    </tr>\n",
              "  </tbody>\n",
              "</table>"
            ],
            "text/plain": [
              "<IPython.core.display.HTML object>"
            ]
          },
          "metadata": {},
          "output_type": "display_data"
        },
        {
          "name": "stderr",
          "output_type": "stream",
          "text": [
            "/usr/local/lib/python3.7/dist-packages/numpy/core/_asarray.py:83: VisibleDeprecationWarning: Creating an ndarray from ragged nested sequences (which is a list-or-tuple of lists-or-tuples-or ndarrays with different lengths or shapes) is deprecated. If you meant to do this, you must specify 'dtype=object' when creating the ndarray\n",
            "  return array(a, dtype, copy=False, order=order)\n",
            "<string>:6: VisibleDeprecationWarning: Creating an ndarray from ragged nested sequences (which is a list-or-tuple of lists-or-tuples-or ndarrays with different lengths or shapes) is deprecated. If you meant to do this, you must specify 'dtype=object' when creating the ndarray\n"
          ]
        },
        {
          "data": {
            "image/png": "[encoded data removed]",
            "text/plain": [
              "<Figure size 432x288 with 1 Axes>"
            ]
          },
          "metadata": {},
          "output_type": "display_data"
        }
      ],
      "source": [
        "learner.freeze_to(-3)\n",
        "learner.fit_one_cycle(2, max_lr=slice(lr*0.95**num_groups, lr), moms=(0.8, 0.9), callbacks=[SaveModelCallback(learner,every='epoch', name='model_'))"
      ]
    },
    {
      "cell_type": "code",
      "execution_count": null,
      "metadata": {
        "colab": {
          "base_uri": "https://localhost:8080/",
          "height": 642
        },
        "id": "N5xFL0ki-u0d",
        "outputId": "331f192c-8283-43ed-d411-4b588e6fffcf"
      },
      "outputs": [
        {
          "data": {
            "text/html": [
              "<table border=\"1\" class=\"dataframe\">\n",
              "  <thead>\n",
              "    <tr style=\"text-align: left;\">\n",
              "      <th>epoch</th>\n",
              "      <th>train_loss</th>\n",
              "      <th>valid_loss</th>\n",
              "      <th>accuracy</th>\n",
              "      <th>error_rate</th>\n",
              "      <th>time</th>\n",
              "    </tr>\n",
              "  </thead>\n",
              "  <tbody>\n",
              "    <tr>\n",
              "      <td>0</td>\n",
              "      <td>0.112050</td>\n",
              "      <td>0.262640</td>\n",
              "      <td>0.909091</td>\n",
              "      <td>0.090909</td>\n",
              "      <td>04:48</td>\n",
              "    </tr>\n",
              "    <tr>\n",
              "      <td>1</td>\n",
              "      <td>0.117480</td>\n",
              "      <td>0.293344</td>\n",
              "      <td>0.909091</td>\n",
              "      <td>0.090909</td>\n",
              "      <td>04:59</td>\n",
              "    </tr>\n",
              "    <tr>\n",
              "      <td>2</td>\n",
              "      <td>0.050723</td>\n",
              "      <td>0.345514</td>\n",
              "      <td>0.909091</td>\n",
              "      <td>0.090909</td>\n",
              "      <td>04:58</td>\n",
              "    </tr>\n",
              "    <tr>\n",
              "      <td>3</td>\n",
              "      <td>0.035854</td>\n",
              "      <td>0.322587</td>\n",
              "      <td>0.909091</td>\n",
              "      <td>0.090909</td>\n",
              "      <td>05:01</td>\n",
              "    </tr>\n",
              "  </tbody>\n",
              "</table>"
            ],
            "text/plain": [
              "<IPython.core.display.HTML object>"
            ]
          },
          "metadata": {},
          "output_type": "display_data"
        },
        {
          "name": "stderr",
          "output_type": "stream",
          "text": [
            "/usr/local/lib/python3.7/dist-packages/numpy/core/_asarray.py:83: VisibleDeprecationWarning: Creating an ndarray from ragged nested sequences (which is a list-or-tuple of lists-or-tuples-or ndarrays with different lengths or shapes) is deprecated. If you meant to do this, you must specify 'dtype=object' when creating the ndarray\n",
            "  return array(a, dtype, copy=False, order=order)\n",
            "<string>:6: VisibleDeprecationWarning: Creating an ndarray from ragged nested sequences (which is a list-or-tuple of lists-or-tuples-or ndarrays with different lengths or shapes) is deprecated. If you meant to do this, you must specify 'dtype=object' when creating the ndarray\n"
          ]
        },
        {
          "data": {
            "image/png": "[encoded data removed]",
            "text/plain": [
              "<Figure size 432x288 with 1 Axes>"
            ]
          },
          "metadata": {},
          "output_type": "display_data"
        },
        {
          "name": "stderr",
          "output_type": "stream",
          "text": [
            "/usr/local/lib/python3.7/dist-packages/numpy/core/_asarray.py:83: VisibleDeprecationWarning: Creating an ndarray from ragged nested sequences (which is a list-or-tuple of lists-or-tuples-or ndarrays with different lengths or shapes) is deprecated. If you meant to do this, you must specify 'dtype=object' when creating the ndarray\n",
            "  return array(a, dtype, copy=False, order=order)\n",
            "<string>:6: VisibleDeprecationWarning: Creating an ndarray from ragged nested sequences (which is a list-or-tuple of lists-or-tuples-or ndarrays with different lengths or shapes) is deprecated. If you meant to do this, you must specify 'dtype=object' when creating the ndarray\n",
            "/usr/local/lib/python3.7/dist-packages/numpy/core/_asarray.py:83: VisibleDeprecationWarning: Creating an ndarray from ragged nested sequences (which is a list-or-tuple of lists-or-tuples-or ndarrays with different lengths or shapes) is deprecated. If you meant to do this, you must specify 'dtype=object' when creating the ndarray\n",
            "  return array(a, dtype, copy=False, order=order)\n",
            "<string>:6: VisibleDeprecationWarning: Creating an ndarray from ragged nested sequences (which is a list-or-tuple of lists-or-tuples-or ndarrays with different lengths or shapes) is deprecated. If you meant to do this, you must specify 'dtype=object' when creating the ndarray\n",
            "/usr/local/lib/python3.7/dist-packages/numpy/core/_asarray.py:83: VisibleDeprecationWarning: Creating an ndarray from ragged nested sequences (which is a list-or-tuple of lists-or-tuples-or ndarrays with different lengths or shapes) is deprecated. If you meant to do this, you must specify 'dtype=object' when creating the ndarray\n",
            "  return array(a, dtype, copy=False, order=order)\n",
            "<string>:6: VisibleDeprecationWarning: Creating an ndarray from ragged nested sequences (which is a list-or-tuple of lists-or-tuples-or ndarrays with different lengths or shapes) is deprecated. If you meant to do this, you must specify 'dtype=object' when creating the ndarray\n"
          ]
        }
      ],
      "source": [
        "lr=4e-06 # lower learning rate\n",
        "learner.unfreeze()\n",
        "learner.fit_one_cycle(4, max_lr=lr, moms=(0.8, 0.9), callbacks=[SaveModelCallback(learner,every='epoch', name='model_')])"
      ]
    },
    {
      "cell_type": "code",
      "execution_count": null,
      "metadata": {
        "colab": {
          "base_uri": "https://localhost:8080/",
          "height": 401
        },
        "id": "47x0VCitI6rH",
        "outputId": "fa538eef-344e-4ff2-b78a-d88ac71e4d76"
      },
      "outputs": [
        {
          "data": {
            "text/html": [
              "<table border=\"1\" class=\"dataframe\">\n",
              "  <thead>\n",
              "    <tr style=\"text-align: left;\">\n",
              "      <th>epoch</th>\n",
              "      <th>train_loss</th>\n",
              "      <th>valid_loss</th>\n",
              "      <th>accuracy</th>\n",
              "      <th>error_rate</th>\n",
              "      <th>time</th>\n",
              "    </tr>\n",
              "  </thead>\n",
              "  <tbody>\n",
              "    <tr>\n",
              "      <td>0</td>\n",
              "      <td>0.207847</td>\n",
              "      <td>0.220464</td>\n",
              "      <td>0.921300</td>\n",
              "      <td>0.078700</td>\n",
              "      <td>06:26</td>\n",
              "    </tr>\n",
              "  </tbody>\n",
              "</table>"
            ],
            "text/plain": [
              "<IPython.core.display.HTML object>"
            ]
          },
          "metadata": {},
          "output_type": "display_data"
        },
        {
          "name": "stderr",
          "output_type": "stream",
          "text": [
            "/usr/local/lib/python3.7/dist-packages/numpy/core/_asarray.py:83: VisibleDeprecationWarning: Creating an ndarray from ragged nested sequences (which is a list-or-tuple of lists-or-tuples-or ndarrays with different lengths or shapes) is deprecated. If you meant to do this, you must specify 'dtype=object' when creating the ndarray\n",
            "  return array(a, dtype, copy=False, order=order)\n",
            "<string>:6: VisibleDeprecationWarning: Creating an ndarray from ragged nested sequences (which is a list-or-tuple of lists-or-tuples-or ndarrays with different lengths or shapes) is deprecated. If you meant to do this, you must specify 'dtype=object' when creating the ndarray\n"
          ]
        },
        {
          "data": {
            "image/png": "[encoded data removed]",
            "text/plain": [
              "<Figure size 432x288 with 1 Axes>"
            ]
          },
          "metadata": {},
          "output_type": "display_data"
        }
      ],
      "source": [
        "learner.fit_one_cycle(1, max_lr=slice(lr*0.95**num_groups, lr), moms=(0.8, 0.9), callbacks=[SaveModelCallback(learner,every='epoch', name='model_'))"
      ]
    },
    {
      "cell_type": "markdown",
      "metadata": {
        "id": "cEzMe10SzJBY"
      },
      "source": [
        "## Training"
      ]
    },
    {
      "cell_type": "markdown",
      "source": [
        "We can also train all the layers directly."
      ],
      "metadata": {
        "id": "4sliAZjeuyGk"
      }
    },
    {
      "cell_type": "code",
      "execution_count": null,
      "metadata": {
        "colab": {
          "base_uri": "https://localhost:8080/",
          "height": 482
        },
        "id": "sHRfuDh1bDLS",
        "outputId": "51d69293-be32-4c7d-fb0f-3e2cb126110f"
      },
      "outputs": [
        {
          "data": {
            "text/html": [
              "\n",
              "    <div>\n",
              "        <style>\n",
              "            /* Turns off some styling */\n",
              "            progress {\n",
              "                /* gets rid of default border in Firefox and Opera. */\n",
              "                border: none;\n",
              "                /* Needs to be in here for Safari polyfill so background images work as expected. */\n",
              "                background-size: auto;\n",
              "            }\n",
              "            .progress-bar-interrupted, .progress-bar-interrupted::-webkit-progress-bar {\n",
              "                background: #F44336;\n",
              "            }\n",
              "        </style>\n",
              "      <progress value='0' class='' max='1' style='width:300px; height:20px; vertical-align: middle;'></progress>\n",
              "      0.00% [0/1 00:00<00:00]\n",
              "    </div>\n",
              "    \n",
              "<table border=\"1\" class=\"dataframe\">\n",
              "  <thead>\n",
              "    <tr style=\"text-align: left;\">\n",
              "      <th>epoch</th>\n",
              "      <th>train_loss</th>\n",
              "      <th>valid_loss</th>\n",
              "      <th>accuracy</th>\n",
              "      <th>error_rate</th>\n",
              "      <th>time</th>\n",
              "    </tr>\n",
              "  </thead>\n",
              "  <tbody>\n",
              "  </tbody>\n",
              "</table><p>\n",
              "\n",
              "    <div>\n",
              "        <style>\n",
              "            /* Turns off some styling */\n",
              "            progress {\n",
              "                /* gets rid of default border in Firefox and Opera. */\n",
              "                border: none;\n",
              "                /* Needs to be in here for Safari polyfill so background images work as expected. */\n",
              "                background-size: auto;\n",
              "            }\n",
              "            .progress-bar-interrupted, .progress-bar-interrupted::-webkit-progress-bar {\n",
              "                background: #F44336;\n",
              "            }\n",
              "        </style>\n",
              "      <progress value='73' class='' max='1454' style='width:300px; height:20px; vertical-align: middle;'></progress>\n",
              "      5.02% [73/1454 00:47<14:56 3.2822]\n",
              "    </div>\n",
              "    "
            ],
            "text/plain": [
              "<IPython.core.display.HTML object>"
            ]
          },
          "metadata": {},
          "output_type": "display_data"
        },
        {
          "name": "stderr",
          "output_type": "stream",
          "text": [
            "/usr/local/lib/python3.7/dist-packages/numpy/core/_asarray.py:83: VisibleDeprecationWarning: Creating an ndarray from ragged nested sequences (which is a list-or-tuple of lists-or-tuples-or ndarrays with different lengths or shapes) is deprecated. If you meant to do this, you must specify 'dtype=object' when creating the ndarray\n",
            "  return array(a, dtype, copy=False, order=order)\n",
            "<string>:6: VisibleDeprecationWarning: Creating an ndarray from ragged nested sequences (which is a list-or-tuple of lists-or-tuples-or ndarrays with different lengths or shapes) is deprecated. If you meant to do this, you must specify 'dtype=object' when creating the ndarray\n"
          ]
        },
        {
          "name": "stdout",
          "output_type": "stream",
          "text": [
            "LR Finder is complete, type {learner_name}.recorder.plot() to see the graph.\n",
            "Min numerical gradient: 4.79E-06\n",
            "Min loss divided by 10: 1.91E-05\n"
          ]
        },
        {
          "data": {
            "image/png": "[encoded data removed]",
            "text/plain": [
              "<Figure size 432x288 with 1 Axes>"
            ]
          },
          "metadata": {},
          "output_type": "display_data"
        }
      ],
      "source": [
        "\"\"\"\n",
        "Find the learning rate. \n",
        "Roberta tends to like lower rates from 2e-05 to 1e-06. Better to err on safe side with lower value vs risk divergent behavior.\n",
        "1e-5, 2e-5, 3e-5 seems to be the sweet spot, but 5e-06 to 9e-06 seems popular too. \n",
        "\"\"\"\n",
        "learner.lr_find()\n",
        "learner.recorder.plot(skip_end=10,suggestion=True)"
      ]
    },
    {
      "cell_type": "code",
      "execution_count": null,
      "metadata": {
        "colab": {
          "background_save": true,
          "base_uri": "https://localhost:8080/",
          "height": 758
        },
        "id": "b8jLzWDUbR8k",
        "outputId": "d3e75122-de94-4d9c-83a6-2fe4cccc5a6e"
      },
      "outputs": [
        {
          "data": {
            "text/html": [
              "<table border=\"1\" class=\"dataframe\">\n",
              "  <thead>\n",
              "    <tr style=\"text-align: left;\">\n",
              "      <th>epoch</th>\n",
              "      <th>train_loss</th>\n",
              "      <th>valid_loss</th>\n",
              "      <th>accuracy</th>\n",
              "      <th>error_rate</th>\n",
              "      <th>time</th>\n",
              "    </tr>\n",
              "  </thead>\n",
              "  <tbody>\n",
              "    <tr>\n",
              "      <td>0</td>\n",
              "      <td>0.331889</td>\n",
              "      <td>0.382922</td>\n",
              "      <td>0.827586</td>\n",
              "      <td>0.172414</td>\n",
              "      <td>14:57</td>\n",
              "    </tr>\n",
              "    <tr>\n",
              "      <td>1</td>\n",
              "      <td>0.256599</td>\n",
              "      <td>0.200706</td>\n",
              "      <td>0.948276</td>\n",
              "      <td>0.051724</td>\n",
              "      <td>15:37</td>\n",
              "    </tr>\n",
              "    <tr>\n",
              "      <td>2</td>\n",
              "      <td>0.175652</td>\n",
              "      <td>0.160797</td>\n",
              "      <td>0.965517</td>\n",
              "      <td>0.034483</td>\n",
              "      <td>15:30</td>\n",
              "    </tr>\n",
              "  </tbody>\n",
              "</table>"
            ],
            "text/plain": [
              "<IPython.core.display.HTML object>"
            ]
          },
          "metadata": {},
          "output_type": "display_data"
        },
        {
          "name": "stderr",
          "output_type": "stream",
          "text": [
            "/usr/local/lib/python3.7/dist-packages/numpy/core/_asarray.py:83: VisibleDeprecationWarning: Creating an ndarray from ragged nested sequences (which is a list-or-tuple of lists-or-tuples-or ndarrays with different lengths or shapes) is deprecated. If you meant to do this, you must specify 'dtype=object' when creating the ndarray\n",
            "  return array(a, dtype, copy=False, order=order)\n",
            "<string>:6: VisibleDeprecationWarning: Creating an ndarray from ragged nested sequences (which is a list-or-tuple of lists-or-tuples-or ndarrays with different lengths or shapes) is deprecated. If you meant to do this, you must specify 'dtype=object' when creating the ndarray\n"
          ]
        },
        {
          "data": {
            "image/png": "[encoded data removed]",
            "text/plain": [
              "<Figure size 432x288 with 1 Axes>"
            ]
          },
          "metadata": {},
          "output_type": "display_data"
        },
        {
          "name": "stdout",
          "output_type": "stream",
          "text": [
            "Better model found at epoch 0 with valid_loss value: 0.38292187452316284.\n"
          ]
        },
        {
          "name": "stderr",
          "output_type": "stream",
          "text": [
            "/usr/local/lib/python3.7/dist-packages/numpy/core/_asarray.py:83: VisibleDeprecationWarning: Creating an ndarray from ragged nested sequences (which is a list-or-tuple of lists-or-tuples-or ndarrays with different lengths or shapes) is deprecated. If you meant to do this, you must specify 'dtype=object' when creating the ndarray\n",
            "  return array(a, dtype, copy=False, order=order)\n",
            "<string>:6: VisibleDeprecationWarning: Creating an ndarray from ragged nested sequences (which is a list-or-tuple of lists-or-tuples-or ndarrays with different lengths or shapes) is deprecated. If you meant to do this, you must specify 'dtype=object' when creating the ndarray\n"
          ]
        },
        {
          "name": "stdout",
          "output_type": "stream",
          "text": [
            "Better model found at epoch 1 with valid_loss value: 0.20070627331733704.\n"
          ]
        },
        {
          "name": "stderr",
          "output_type": "stream",
          "text": [
            "/usr/local/lib/python3.7/dist-packages/numpy/core/_asarray.py:83: VisibleDeprecationWarning: Creating an ndarray from ragged nested sequences (which is a list-or-tuple of lists-or-tuples-or ndarrays with different lengths or shapes) is deprecated. If you meant to do this, you must specify 'dtype=object' when creating the ndarray\n",
            "  return array(a, dtype, copy=False, order=order)\n",
            "<string>:6: VisibleDeprecationWarning: Creating an ndarray from ragged nested sequences (which is a list-or-tuple of lists-or-tuples-or ndarrays with different lengths or shapes) is deprecated. If you meant to do this, you must specify 'dtype=object' when creating the ndarray\n"
          ]
        },
        {
          "name": "stdout",
          "output_type": "stream",
          "text": [
            "Better model found at epoch 2 with valid_loss value: 0.16079740226268768.\n"
          ]
        }
      ],
      "source": [
        "learner.fit_one_cycle(3, max_lr=3e-06, moms=(0.8,0.9), callbacks=[SaveModelCallback(learner,every='epoch', name='model_')) # 3-4 epochs seems to be most ideal"
      ]
    },
    {
      "cell_type": "code",
      "execution_count": null,
      "metadata": {
        "id": "O4X7_RTRbVjl"
      },
      "outputs": [],
      "source": [
        "learner.export(file = 'model_r1_0.39_20_29_valid.pkl') # save model"
      ]
    },
    {
      "cell_type": "markdown",
      "metadata": {
        "id": "uFGYrDOobeeD"
      },
      "source": [
        "## Validation\n",
        "Validate on test case / samples "
      ]
    },
    {
      "cell_type": "code",
      "execution_count": null,
      "metadata": {
        "colab": {
          "base_uri": "https://localhost:8080/"
        },
        "id": "ZSdxbC4AlV71",
        "outputId": "3ab46d94-2c5a-4ae6-81bf-2388a0c9c60f"
      },
      "outputs": [
        {
          "data": {
            "text/plain": [
              "Learner(data=TextClasDataBunch;\n",
              "\n",
              "Train: LabelList (11683 items)\n",
              "x: TextList\n",
              "<s> Ġ@ C rick et _ M ann ĠAnd Ġthey Ġwill Ġsee Ġmore Ġof Ġit Ġnow Ġthat Ġthey Ġare Ġstarting Ġearlier ĠðŁ ¤ £ </s>,<s> Ġ\" J uma ' at ĠKare em Ġto Ġall Ġmy ĠMuslim Ġbrother Ġaround Ġthe Ġworld . ĠAl ham d ul ill ah ĠFriday Ġagain </s>,<s> ĠThor pe Ġbecomes ĠEngland Ġhead Ġcoach Ġfor ĠPakistan ĠT 20 Ġseries Ġwith ĠSilver wood Ġrested </s>,<s> Ġ@ Par Z evil ĠPlymouth ĠCricket . ĠTHREE Ġtransmissions . </s>,<s> Ġjung k ook Ġdidn âĢ Ļ t Ġget Ġcaught Ġeating Ġfood Ġduring Ġram adan Ġby Ġthe Ġim a am Ġand Ġhis Ġfriends Ġfor Ġhim Ġto Ġget Ġany Ġless Ġthan Ġ100 Ġmillion </s>\n",
              "y: CategoryList\n",
              "0.0,0.0,0.0,0.0,0.0\n",
              "Path: .;\n",
              "\n",
              "Valid: LabelList (11 items)\n",
              "x: TextList\n",
              "<s> ĠHappy Ġanniversary Ġ1 ĠM uh ar ram Ġ14 42 ĠH . Ġ# T ah un Bar u Islam Ġ Ġ# T ah un Bar u H ij ri yah </s>,<s> ĠFemin ism Ġthreatens Ġthe Ġobjective Ġreality Ġof Ġgender . ĠThere Ġare Ġmen Ġand Ġwomen Ġonly . ĠAnd Ġwomen Ġmust Ġobey . </s>,<s> ĠHappy ĠIslamic ĠNew ĠYear Ġ ĠOne ĠM uh ar ram ðŁĺ ĩ </s>,<s> Ġ@ Bang alore Mir ror ĠRadical ĠIslamic Ġterrorists </s>,<s> Ġ@ _ s ab ana q vi ĠT are ek Ġ--- Ġmeans Ġdarkness Ġ Ġhidden ĠJe h adi Ġagenda </s>\n",
              "y: CategoryList\n",
              "0.0,0.0,0.0,2.0,0.0\n",
              "Path: .;\n",
              "\n",
              "Test: None, model=CustomTransformerModel(\n",
              "  (transformer): RobertaForSequenceClassification(\n",
              "    (roberta): RobertaModel(\n",
              "      (embeddings): RobertaEmbeddings(\n",
              "        (word_embeddings): Embedding(50265, 1024, padding_idx=1)\n",
              "        (position_embeddings): Embedding(514, 1024, padding_idx=1)\n",
              "        (token_type_embeddings): Embedding(1, 1024)\n",
              "        (LayerNorm): LayerNorm((1024,), eps=1e-05, elementwise_affine=True)\n",
              "        (dropout): Dropout(p=0.1, inplace=False)\n",
              "      )\n",
              "      (encoder): RobertaEncoder(\n",
              "        (layer): ModuleList(\n",
              "          (0): RobertaLayer(\n",
              "            (attention): RobertaAttention(\n",
              "              (self): RobertaSelfAttention(\n",
              "                (query): Linear(in_features=1024, out_features=1024, bias=True)\n",
              "                (key): Linear(in_features=1024, out_features=1024, bias=True)\n",
              "                (value): Linear(in_features=1024, out_features=1024, bias=True)\n",
              "                (dropout): Dropout(p=0.1, inplace=False)\n",
              "              )\n",
              "              (output): RobertaSelfOutput(\n",
              "                (dense): Linear(in_features=1024, out_features=1024, bias=True)\n",
              "                (LayerNorm): LayerNorm((1024,), eps=1e-05, elementwise_affine=True)\n",
              "                (dropout): Dropout(p=0.1, inplace=False)\n",
              "              )\n",
              "            )\n",
              "            (intermediate): RobertaIntermediate(\n",
              "              (dense): Linear(in_features=1024, out_features=4096, bias=True)\n",
              "            )\n",
              "            (output): RobertaOutput(\n",
              "              (dense): Linear(in_features=4096, out_features=1024, bias=True)\n",
              "              (LayerNorm): LayerNorm((1024,), eps=1e-05, elementwise_affine=True)\n",
              "              (dropout): Dropout(p=0.1, inplace=False)\n",
              "            )\n",
              "          )\n",
              "          (1): RobertaLayer(\n",
              "            (attention): RobertaAttention(\n",
              "              (self): RobertaSelfAttention(\n",
              "                (query): Linear(in_features=1024, out_features=1024, bias=True)\n",
              "                (key): Linear(in_features=1024, out_features=1024, bias=True)\n",
              "                (value): Linear(in_features=1024, out_features=1024, bias=True)\n",
              "                (dropout): Dropout(p=0.1, inplace=False)\n",
              "              )\n",
              "              (output): RobertaSelfOutput(\n",
              "                (dense): Linear(in_features=1024, out_features=1024, bias=True)\n",
              "                (LayerNorm): LayerNorm((1024,), eps=1e-05, elementwise_affine=True)\n",
              "                (dropout): Dropout(p=0.1, inplace=False)\n",
              "              )\n",
              "            )\n",
              "            (intermediate): RobertaIntermediate(\n",
              "              (dense): Linear(in_features=1024, out_features=4096, bias=True)\n",
              "            )\n",
              "            (output): RobertaOutput(\n",
              "              (dense): Linear(in_features=4096, out_features=1024, bias=True)\n",
              "              (LayerNorm): LayerNorm((1024,), eps=1e-05, elementwise_affine=True)\n",
              "              (dropout): Dropout(p=0.1, inplace=False)\n",
              "            )\n",
              "          )\n",
              "          (2): RobertaLayer(\n",
              "            (attention): RobertaAttention(\n",
              "              (self): RobertaSelfAttention(\n",
              "                (query): Linear(in_features=1024, out_features=1024, bias=True)\n",
              "                (key): Linear(in_features=1024, out_features=1024, bias=True)\n",
              "                (value): Linear(in_features=1024, out_features=1024, bias=True)\n",
              "                (dropout): Dropout(p=0.1, inplace=False)\n",
              "              )\n",
              "              (output): RobertaSelfOutput(\n",
              "                (dense): Linear(in_features=1024, out_features=1024, bias=True)\n",
              "                (LayerNorm): LayerNorm((1024,), eps=1e-05, elementwise_affine=True)\n",
              "                (dropout): Dropout(p=0.1, inplace=False)\n",
              "              )\n",
              "            )\n",
              "            (intermediate): RobertaIntermediate(\n",
              "              (dense): Linear(in_features=1024, out_features=4096, bias=True)\n",
              "            )\n",
              "            (output): RobertaOutput(\n",
              "              (dense): Linear(in_features=4096, out_features=1024, bias=True)\n",
              "              (LayerNorm): LayerNorm((1024,), eps=1e-05, elementwise_affine=True)\n",
              "              (dropout): Dropout(p=0.1, inplace=False)\n",
              "            )\n",
              "          )\n",
              "          (3): RobertaLayer(\n",
              "            (attention): RobertaAttention(\n",
              "              (self): RobertaSelfAttention(\n",
              "                (query): Linear(in_features=1024, out_features=1024, bias=True)\n",
              "                (key): Linear(in_features=1024, out_features=1024, bias=True)\n",
              "                (value): Linear(in_features=1024, out_features=1024, bias=True)\n",
              "                (dropout): Dropout(p=0.1, inplace=False)\n",
              "              )\n",
              "              (output): RobertaSelfOutput(\n",
              "                (dense): Linear(in_features=1024, out_features=1024, bias=True)\n",
              "                (LayerNorm): LayerNorm((1024,), eps=1e-05, elementwise_affine=True)\n",
              "                (dropout): Dropout(p=0.1, inplace=False)\n",
              "              )\n",
              "            )\n",
              "            (intermediate): RobertaIntermediate(\n",
              "              (dense): Linear(in_features=1024, out_features=4096, bias=True)\n",
              "            )\n",
              "            (output): RobertaOutput(\n",
              "              (dense): Linear(in_features=4096, out_features=1024, bias=True)\n",
              "              (LayerNorm): LayerNorm((1024,), eps=1e-05, elementwise_affine=True)\n",
              "              (dropout): Dropout(p=0.1, inplace=False)\n",
              "            )\n",
              "          )\n",
              "          (4): RobertaLayer(\n",
              "            (attention): RobertaAttention(\n",
              "              (self): RobertaSelfAttention(\n",
              "                (query): Linear(in_features=1024, out_features=1024, bias=True)\n",
              "                (key): Linear(in_features=1024, out_features=1024, bias=True)\n",
              "                (value): Linear(in_features=1024, out_features=1024, bias=True)\n",
              "                (dropout): Dropout(p=0.1, inplace=False)\n",
              "              )\n",
              "              (output): RobertaSelfOutput(\n",
              "                (dense): Linear(in_features=1024, out_features=1024, bias=True)\n",
              "                (LayerNorm): LayerNorm((1024,), eps=1e-05, elementwise_affine=True)\n",
              "                (dropout): Dropout(p=0.1, inplace=False)\n",
              "              )\n",
              "            )\n",
              "            (intermediate): RobertaIntermediate(\n",
              "              (dense): Linear(in_features=1024, out_features=4096, bias=True)\n",
              "            )\n",
              "            (output): RobertaOutput(\n",
              "              (dense): Linear(in_features=4096, out_features=1024, bias=True)\n",
              "              (LayerNorm): LayerNorm((1024,), eps=1e-05, elementwise_affine=True)\n",
              "              (dropout): Dropout(p=0.1, inplace=False)\n",
              "            )\n",
              "          )\n",
              "          (5): RobertaLayer(\n",
              "            (attention): RobertaAttention(\n",
              "              (self): RobertaSelfAttention(\n",
              "                (query): Linear(in_features=1024, out_features=1024, bias=True)\n",
              "                (key): Linear(in_features=1024, out_features=1024, bias=True)\n",
              "                (value): Linear(in_features=1024, out_features=1024, bias=True)\n",
              "                (dropout): Dropout(p=0.1, inplace=False)\n",
              "              )\n",
              "              (output): RobertaSelfOutput(\n",
              "                (dense): Linear(in_features=1024, out_features=1024, bias=True)\n",
              "                (LayerNorm): LayerNorm((1024,), eps=1e-05, elementwise_affine=True)\n",
              "                (dropout): Dropout(p=0.1, inplace=False)\n",
              "              )\n",
              "            )\n",
              "            (intermediate): RobertaIntermediate(\n",
              "              (dense): Linear(in_features=1024, out_features=4096, bias=True)\n",
              "            )\n",
              "            (output): RobertaOutput(\n",
              "              (dense): Linear(in_features=4096, out_features=1024, bias=True)\n",
              "              (LayerNorm): LayerNorm((1024,), eps=1e-05, elementwise_affine=True)\n",
              "              (dropout): Dropout(p=0.1, inplace=False)\n",
              "            )\n",
              "          )\n",
              "          (6): RobertaLayer(\n",
              "            (attention): RobertaAttention(\n",
              "              (self): RobertaSelfAttention(\n",
              "                (query): Linear(in_features=1024, out_features=1024, bias=True)\n",
              "                (key): Linear(in_features=1024, out_features=1024, bias=True)\n",
              "                (value): Linear(in_features=1024, out_features=1024, bias=True)\n",
              "                (dropout): Dropout(p=0.1, inplace=False)\n",
              "              )\n",
              "              (output): RobertaSelfOutput(\n",
              "                (dense): Linear(in_features=1024, out_features=1024, bias=True)\n",
              "                (LayerNorm): LayerNorm((1024,), eps=1e-05, elementwise_affine=True)\n",
              "                (dropout): Dropout(p=0.1, inplace=False)\n",
              "              )\n",
              "            )\n",
              "            (intermediate): RobertaIntermediate(\n",
              "              (dense): Linear(in_features=1024, out_features=4096, bias=True)\n",
              "            )\n",
              "            (output): RobertaOutput(\n",
              "              (dense): Linear(in_features=4096, out_features=1024, bias=True)\n",
              "              (LayerNorm): LayerNorm((1024,), eps=1e-05, elementwise_affine=True)\n",
              "              (dropout): Dropout(p=0.1, inplace=False)\n",
              "            )\n",
              "          )\n",
              "          (7): RobertaLayer(\n",
              "            (attention): RobertaAttention(\n",
              "              (self): RobertaSelfAttention(\n",
              "                (query): Linear(in_features=1024, out_features=1024, bias=True)\n",
              "                (key): Linear(in_features=1024, out_features=1024, bias=True)\n",
              "                (value): Linear(in_features=1024, out_features=1024, bias=True)\n",
              "                (dropout): Dropout(p=0.1, inplace=False)\n",
              "              )\n",
              "              (output): RobertaSelfOutput(\n",
              "                (dense): Linear(in_features=1024, out_features=1024, bias=True)\n",
              "                (LayerNorm): LayerNorm((1024,), eps=1e-05, elementwise_affine=True)\n",
              "                (dropout): Dropout(p=0.1, inplace=False)\n",
              "              )\n",
              "            )\n",
              "            (intermediate): RobertaIntermediate(\n",
              "              (dense): Linear(in_features=1024, out_features=4096, bias=True)\n",
              "            )\n",
              "            (output): RobertaOutput(\n",
              "              (dense): Linear(in_features=4096, out_features=1024, bias=True)\n",
              "              (LayerNorm): LayerNorm((1024,), eps=1e-05, elementwise_affine=True)\n",
              "              (dropout): Dropout(p=0.1, inplace=False)\n",
              "            )\n",
              "          )\n",
              "          (8): RobertaLayer(\n",
              "            (attention): RobertaAttention(\n",
              "              (self): RobertaSelfAttention(\n",
              "                (query): Linear(in_features=1024, out_features=1024, bias=True)\n",
              "                (key): Linear(in_features=1024, out_features=1024, bias=True)\n",
              "                (value): Linear(in_features=1024, out_features=1024, bias=True)\n",
              "                (dropout): Dropout(p=0.1, inplace=False)\n",
              "              )\n",
              "              (output): RobertaSelfOutput(\n",
              "                (dense): Linear(in_features=1024, out_features=1024, bias=True)\n",
              "                (LayerNorm): LayerNorm((1024,), eps=1e-05, elementwise_affine=True)\n",
              "                (dropout): Dropout(p=0.1, inplace=False)\n",
              "              )\n",
              "            )\n",
              "            (intermediate): RobertaIntermediate(\n",
              "              (dense): Linear(in_features=1024, out_features=4096, bias=True)\n",
              "            )\n",
              "            (output): RobertaOutput(\n",
              "              (dense): Linear(in_features=4096, out_features=1024, bias=True)\n",
              "              (LayerNorm): LayerNorm((1024,), eps=1e-05, elementwise_affine=True)\n",
              "              (dropout): Dropout(p=0.1, inplace=False)\n",
              "            )\n",
              "          )\n",
              "          (9): RobertaLayer(\n",
              "            (attention): RobertaAttention(\n",
              "              (self): RobertaSelfAttention(\n",
              "                (query): Linear(in_features=1024, out_features=1024, bias=True)\n",
              "                (key): Linear(in_features=1024, out_features=1024, bias=True)\n",
              "                (value): Linear(in_features=1024, out_features=1024, bias=True)\n",
              "                (dropout): Dropout(p=0.1, inplace=False)\n",
              "              )\n",
              "              (output): RobertaSelfOutput(\n",
              "                (dense): Linear(in_features=1024, out_features=1024, bias=True)\n",
              "                (LayerNorm): LayerNorm((1024,), eps=1e-05, elementwise_affine=True)\n",
              "                (dropout): Dropout(p=0.1, inplace=False)\n",
              "              )\n",
              "            )\n",
              "            (intermediate): RobertaIntermediate(\n",
              "              (dense): Linear(in_features=1024, out_features=4096, bias=True)\n",
              "            )\n",
              "            (output): RobertaOutput(\n",
              "              (dense): Linear(in_features=4096, out_features=1024, bias=True)\n",
              "              (LayerNorm): LayerNorm((1024,), eps=1e-05, elementwise_affine=True)\n",
              "              (dropout): Dropout(p=0.1, inplace=False)\n",
              "            )\n",
              "          )\n",
              "          (10): RobertaLayer(\n",
              "            (attention): RobertaAttention(\n",
              "              (self): RobertaSelfAttention(\n",
              "                (query): Linear(in_features=1024, out_features=1024, bias=True)\n",
              "                (key): Linear(in_features=1024, out_features=1024, bias=True)\n",
              "                (value): Linear(in_features=1024, out_features=1024, bias=True)\n",
              "                (dropout): Dropout(p=0.1, inplace=False)\n",
              "              )\n",
              "              (output): RobertaSelfOutput(\n",
              "                (dense): Linear(in_features=1024, out_features=1024, bias=True)\n",
              "                (LayerNorm): LayerNorm((1024,), eps=1e-05, elementwise_affine=True)\n",
              "                (dropout): Dropout(p=0.1, inplace=False)\n",
              "              )\n",
              "            )\n",
              "            (intermediate): RobertaIntermediate(\n",
              "              (dense): Linear(in_features=1024, out_features=4096, bias=True)\n",
              "            )\n",
              "            (output): RobertaOutput(\n",
              "              (dense): Linear(in_features=4096, out_features=1024, bias=True)\n",
              "              (LayerNorm): LayerNorm((1024,), eps=1e-05, elementwise_affine=True)\n",
              "              (dropout): Dropout(p=0.1, inplace=False)\n",
              "            )\n",
              "          )\n",
              "          (11): RobertaLayer(\n",
              "            (attention): RobertaAttention(\n",
              "              (self): RobertaSelfAttention(\n",
              "                (query): Linear(in_features=1024, out_features=1024, bias=True)\n",
              "                (key): Linear(in_features=1024, out_features=1024, bias=True)\n",
              "                (value): Linear(in_features=1024, out_features=1024, bias=True)\n",
              "                (dropout): Dropout(p=0.1, inplace=False)\n",
              "              )\n",
              "              (output): RobertaSelfOutput(\n",
              "                (dense): Linear(in_features=1024, out_features=1024, bias=True)\n",
              "                (LayerNorm): LayerNorm((1024,), eps=1e-05, elementwise_affine=True)\n",
              "                (dropout): Dropout(p=0.1, inplace=False)\n",
              "              )\n",
              "            )\n",
              "            (intermediate): RobertaIntermediate(\n",
              "              (dense): Linear(in_features=1024, out_features=4096, bias=True)\n",
              "            )\n",
              "            (output): RobertaOutput(\n",
              "              (dense): Linear(in_features=4096, out_features=1024, bias=True)\n",
              "              (LayerNorm): LayerNorm((1024,), eps=1e-05, elementwise_affine=True)\n",
              "              (dropout): Dropout(p=0.1, inplace=False)\n",
              "            )\n",
              "          )\n",
              "          (12): RobertaLayer(\n",
              "            (attention): RobertaAttention(\n",
              "              (self): RobertaSelfAttention(\n",
              "                (query): Linear(in_features=1024, out_features=1024, bias=True)\n",
              "                (key): Linear(in_features=1024, out_features=1024, bias=True)\n",
              "                (value): Linear(in_features=1024, out_features=1024, bias=True)\n",
              "                (dropout): Dropout(p=0.1, inplace=False)\n",
              "              )\n",
              "              (output): RobertaSelfOutput(\n",
              "                (dense): Linear(in_features=1024, out_features=1024, bias=True)\n",
              "                (LayerNorm): LayerNorm((1024,), eps=1e-05, elementwise_affine=True)\n",
              "                (dropout): Dropout(p=0.1, inplace=False)\n",
              "              )\n",
              "            )\n",
              "            (intermediate): RobertaIntermediate(\n",
              "              (dense): Linear(in_features=1024, out_features=4096, bias=True)\n",
              "            )\n",
              "            (output): RobertaOutput(\n",
              "              (dense): Linear(in_features=4096, out_features=1024, bias=True)\n",
              "              (LayerNorm): LayerNorm((1024,), eps=1e-05, elementwise_affine=True)\n",
              "              (dropout): Dropout(p=0.1, inplace=False)\n",
              "            )\n",
              "          )\n",
              "          (13): RobertaLayer(\n",
              "            (attention): RobertaAttention(\n",
              "              (self): RobertaSelfAttention(\n",
              "                (query): Linear(in_features=1024, out_features=1024, bias=True)\n",
              "                (key): Linear(in_features=1024, out_features=1024, bias=True)\n",
              "                (value): Linear(in_features=1024, out_features=1024, bias=True)\n",
              "                (dropout): Dropout(p=0.1, inplace=False)\n",
              "              )\n",
              "              (output): RobertaSelfOutput(\n",
              "                (dense): Linear(in_features=1024, out_features=1024, bias=True)\n",
              "                (LayerNorm): LayerNorm((1024,), eps=1e-05, elementwise_affine=True)\n",
              "                (dropout): Dropout(p=0.1, inplace=False)\n",
              "              )\n",
              "            )\n",
              "            (intermediate): RobertaIntermediate(\n",
              "              (dense): Linear(in_features=1024, out_features=4096, bias=True)\n",
              "            )\n",
              "            (output): RobertaOutput(\n",
              "              (dense): Linear(in_features=4096, out_features=1024, bias=True)\n",
              "              (LayerNorm): LayerNorm((1024,), eps=1e-05, elementwise_affine=True)\n",
              "              (dropout): Dropout(p=0.1, inplace=False)\n",
              "            )\n",
              "          )\n",
              "          (14): RobertaLayer(\n",
              "            (attention): RobertaAttention(\n",
              "              (self): RobertaSelfAttention(\n",
              "                (query): Linear(in_features=1024, out_features=1024, bias=True)\n",
              "                (key): Linear(in_features=1024, out_features=1024, bias=True)\n",
              "                (value): Linear(in_features=1024, out_features=1024, bias=True)\n",
              "                (dropout): Dropout(p=0.1, inplace=False)\n",
              "              )\n",
              "              (output): RobertaSelfOutput(\n",
              "                (dense): Linear(in_features=1024, out_features=1024, bias=True)\n",
              "                (LayerNorm): LayerNorm((1024,), eps=1e-05, elementwise_affine=True)\n",
              "                (dropout): Dropout(p=0.1, inplace=False)\n",
              "              )\n",
              "            )\n",
              "            (intermediate): RobertaIntermediate(\n",
              "              (dense): Linear(in_features=1024, out_features=4096, bias=True)\n",
              "            )\n",
              "            (output): RobertaOutput(\n",
              "              (dense): Linear(in_features=4096, out_features=1024, bias=True)\n",
              "              (LayerNorm): LayerNorm((1024,), eps=1e-05, elementwise_affine=True)\n",
              "              (dropout): Dropout(p=0.1, inplace=False)\n",
              "            )\n",
              "          )\n",
              "          (15): RobertaLayer(\n",
              "            (attention): RobertaAttention(\n",
              "              (self): RobertaSelfAttention(\n",
              "                (query): Linear(in_features=1024, out_features=1024, bias=True)\n",
              "                (key): Linear(in_features=1024, out_features=1024, bias=True)\n",
              "                (value): Linear(in_features=1024, out_features=1024, bias=True)\n",
              "                (dropout): Dropout(p=0.1, inplace=False)\n",
              "              )\n",
              "              (output): RobertaSelfOutput(\n",
              "                (dense): Linear(in_features=1024, out_features=1024, bias=True)\n",
              "                (LayerNorm): LayerNorm((1024,), eps=1e-05, elementwise_affine=True)\n",
              "                (dropout): Dropout(p=0.1, inplace=False)\n",
              "              )\n",
              "            )\n",
              "            (intermediate): RobertaIntermediate(\n",
              "              (dense): Linear(in_features=1024, out_features=4096, bias=True)\n",
              "            )\n",
              "            (output): RobertaOutput(\n",
              "              (dense): Linear(in_features=4096, out_features=1024, bias=True)\n",
              "              (LayerNorm): LayerNorm((1024,), eps=1e-05, elementwise_affine=True)\n",
              "              (dropout): Dropout(p=0.1, inplace=False)\n",
              "            )\n",
              "          )\n",
              "          (16): RobertaLayer(\n",
              "            (attention): RobertaAttention(\n",
              "              (self): RobertaSelfAttention(\n",
              "                (query): Linear(in_features=1024, out_features=1024, bias=True)\n",
              "                (key): Linear(in_features=1024, out_features=1024, bias=True)\n",
              "                (value): Linear(in_features=1024, out_features=1024, bias=True)\n",
              "                (dropout): Dropout(p=0.1, inplace=False)\n",
              "              )\n",
              "              (output): RobertaSelfOutput(\n",
              "                (dense): Linear(in_features=1024, out_features=1024, bias=True)\n",
              "                (LayerNorm): LayerNorm((1024,), eps=1e-05, elementwise_affine=True)\n",
              "                (dropout): Dropout(p=0.1, inplace=False)\n",
              "              )\n",
              "            )\n",
              "            (intermediate): RobertaIntermediate(\n",
              "              (dense): Linear(in_features=1024, out_features=4096, bias=True)\n",
              "            )\n",
              "            (output): RobertaOutput(\n",
              "              (dense): Linear(in_features=4096, out_features=1024, bias=True)\n",
              "              (LayerNorm): LayerNorm((1024,), eps=1e-05, elementwise_affine=True)\n",
              "              (dropout): Dropout(p=0.1, inplace=False)\n",
              "            )\n",
              "          )\n",
              "          (17): RobertaLayer(\n",
              "            (attention): RobertaAttention(\n",
              "              (self): RobertaSelfAttention(\n",
              "                (query): Linear(in_features=1024, out_features=1024, bias=True)\n",
              "                (key): Linear(in_features=1024, out_features=1024, bias=True)\n",
              "                (value): Linear(in_features=1024, out_features=1024, bias=True)\n",
              "                (dropout): Dropout(p=0.1, inplace=False)\n",
              "              )\n",
              "              (output): RobertaSelfOutput(\n",
              "                (dense): Linear(in_features=1024, out_features=1024, bias=True)\n",
              "                (LayerNorm): LayerNorm((1024,), eps=1e-05, elementwise_affine=True)\n",
              "                (dropout): Dropout(p=0.1, inplace=False)\n",
              "              )\n",
              "            )\n",
              "            (intermediate): RobertaIntermediate(\n",
              "              (dense): Linear(in_features=1024, out_features=4096, bias=True)\n",
              "            )\n",
              "            (output): RobertaOutput(\n",
              "              (dense): Linear(in_features=4096, out_features=1024, bias=True)\n",
              "              (LayerNorm): LayerNorm((1024,), eps=1e-05, elementwise_affine=True)\n",
              "              (dropout): Dropout(p=0.1, inplace=False)\n",
              "            )\n",
              "          )\n",
              "          (18): RobertaLayer(\n",
              "            (attention): RobertaAttention(\n",
              "              (self): RobertaSelfAttention(\n",
              "                (query): Linear(in_features=1024, out_features=1024, bias=True)\n",
              "                (key): Linear(in_features=1024, out_features=1024, bias=True)\n",
              "                (value): Linear(in_features=1024, out_features=1024, bias=True)\n",
              "                (dropout): Dropout(p=0.1, inplace=False)\n",
              "              )\n",
              "              (output): RobertaSelfOutput(\n",
              "                (dense): Linear(in_features=1024, out_features=1024, bias=True)\n",
              "                (LayerNorm): LayerNorm((1024,), eps=1e-05, elementwise_affine=True)\n",
              "                (dropout): Dropout(p=0.1, inplace=False)\n",
              "              )\n",
              "            )\n",
              "            (intermediate): RobertaIntermediate(\n",
              "              (dense): Linear(in_features=1024, out_features=4096, bias=True)\n",
              "            )\n",
              "            (output): RobertaOutput(\n",
              "              (dense): Linear(in_features=4096, out_features=1024, bias=True)\n",
              "              (LayerNorm): LayerNorm((1024,), eps=1e-05, elementwise_affine=True)\n",
              "              (dropout): Dropout(p=0.1, inplace=False)\n",
              "            )\n",
              "          )\n",
              "          (19): RobertaLayer(\n",
              "            (attention): RobertaAttention(\n",
              "              (self): RobertaSelfAttention(\n",
              "                (query): Linear(in_features=1024, out_features=1024, bias=True)\n",
              "                (key): Linear(in_features=1024, out_features=1024, bias=True)\n",
              "                (value): Linear(in_features=1024, out_features=1024, bias=True)\n",
              "                (dropout): Dropout(p=0.1, inplace=False)\n",
              "              )\n",
              "              (output): RobertaSelfOutput(\n",
              "                (dense): Linear(in_features=1024, out_features=1024, bias=True)\n",
              "                (LayerNorm): LayerNorm((1024,), eps=1e-05, elementwise_affine=True)\n",
              "                (dropout): Dropout(p=0.1, inplace=False)\n",
              "              )\n",
              "            )\n",
              "            (intermediate): RobertaIntermediate(\n",
              "              (dense): Linear(in_features=1024, out_features=4096, bias=True)\n",
              "            )\n",
              "            (output): RobertaOutput(\n",
              "              (dense): Linear(in_features=4096, out_features=1024, bias=True)\n",
              "              (LayerNorm): LayerNorm((1024,), eps=1e-05, elementwise_affine=True)\n",
              "              (dropout): Dropout(p=0.1, inplace=False)\n",
              "            )\n",
              "          )\n",
              "          (20): RobertaLayer(\n",
              "            (attention): RobertaAttention(\n",
              "              (self): RobertaSelfAttention(\n",
              "                (query): Linear(in_features=1024, out_features=1024, bias=True)\n",
              "                (key): Linear(in_features=1024, out_features=1024, bias=True)\n",
              "                (value): Linear(in_features=1024, out_features=1024, bias=True)\n",
              "                (dropout): Dropout(p=0.1, inplace=False)\n",
              "              )\n",
              "              (output): RobertaSelfOutput(\n",
              "                (dense): Linear(in_features=1024, out_features=1024, bias=True)\n",
              "                (LayerNorm): LayerNorm((1024,), eps=1e-05, elementwise_affine=True)\n",
              "                (dropout): Dropout(p=0.1, inplace=False)\n",
              "              )\n",
              "            )\n",
              "            (intermediate): RobertaIntermediate(\n",
              "              (dense): Linear(in_features=1024, out_features=4096, bias=True)\n",
              "            )\n",
              "            (output): RobertaOutput(\n",
              "              (dense): Linear(in_features=4096, out_features=1024, bias=True)\n",
              "              (LayerNorm): LayerNorm((1024,), eps=1e-05, elementwise_affine=True)\n",
              "              (dropout): Dropout(p=0.1, inplace=False)\n",
              "            )\n",
              "          )\n",
              "          (21): RobertaLayer(\n",
              "            (attention): RobertaAttention(\n",
              "              (self): RobertaSelfAttention(\n",
              "                (query): Linear(in_features=1024, out_features=1024, bias=True)\n",
              "                (key): Linear(in_features=1024, out_features=1024, bias=True)\n",
              "                (value): Linear(in_features=1024, out_features=1024, bias=True)\n",
              "                (dropout): Dropout(p=0.1, inplace=False)\n",
              "              )\n",
              "              (output): RobertaSelfOutput(\n",
              "                (dense): Linear(in_features=1024, out_features=1024, bias=True)\n",
              "                (LayerNorm): LayerNorm((1024,), eps=1e-05, elementwise_affine=True)\n",
              "                (dropout): Dropout(p=0.1, inplace=False)\n",
              "              )\n",
              "            )\n",
              "            (intermediate): RobertaIntermediate(\n",
              "              (dense): Linear(in_features=1024, out_features=4096, bias=True)\n",
              "            )\n",
              "            (output): RobertaOutput(\n",
              "              (dense): Linear(in_features=4096, out_features=1024, bias=True)\n",
              "              (LayerNorm): LayerNorm((1024,), eps=1e-05, elementwise_affine=True)\n",
              "              (dropout): Dropout(p=0.1, inplace=False)\n",
              "            )\n",
              "          )\n",
              "          (22): RobertaLayer(\n",
              "            (attention): RobertaAttention(\n",
              "              (self): RobertaSelfAttention(\n",
              "                (query): Linear(in_features=1024, out_features=1024, bias=True)\n",
              "                (key): Linear(in_features=1024, out_features=1024, bias=True)\n",
              "                (value): Linear(in_features=1024, out_features=1024, bias=True)\n",
              "                (dropout): Dropout(p=0.1, inplace=False)\n",
              "              )\n",
              "              (output): RobertaSelfOutput(\n",
              "                (dense): Linear(in_features=1024, out_features=1024, bias=True)\n",
              "                (LayerNorm): LayerNorm((1024,), eps=1e-05, elementwise_affine=True)\n",
              "                (dropout): Dropout(p=0.1, inplace=False)\n",
              "              )\n",
              "            )\n",
              "            (intermediate): RobertaIntermediate(\n",
              "              (dense): Linear(in_features=1024, out_features=4096, bias=True)\n",
              "            )\n",
              "            (output): RobertaOutput(\n",
              "              (dense): Linear(in_features=4096, out_features=1024, bias=True)\n",
              "              (LayerNorm): LayerNorm((1024,), eps=1e-05, elementwise_affine=True)\n",
              "              (dropout): Dropout(p=0.1, inplace=False)\n",
              "            )\n",
              "          )\n",
              "          (23): RobertaLayer(\n",
              "            (attention): RobertaAttention(\n",
              "              (self): RobertaSelfAttention(\n",
              "                (query): Linear(in_features=1024, out_features=1024, bias=True)\n",
              "                (key): Linear(in_features=1024, out_features=1024, bias=True)\n",
              "                (value): Linear(in_features=1024, out_features=1024, bias=True)\n",
              "                (dropout): Dropout(p=0.1, inplace=False)\n",
              "              )\n",
              "              (output): RobertaSelfOutput(\n",
              "                (dense): Linear(in_features=1024, out_features=1024, bias=True)\n",
              "                (LayerNorm): LayerNorm((1024,), eps=1e-05, elementwise_affine=True)\n",
              "                (dropout): Dropout(p=0.1, inplace=False)\n",
              "              )\n",
              "            )\n",
              "            (intermediate): RobertaIntermediate(\n",
              "              (dense): Linear(in_features=1024, out_features=4096, bias=True)\n",
              "            )\n",
              "            (output): RobertaOutput(\n",
              "              (dense): Linear(in_features=4096, out_features=1024, bias=True)\n",
              "              (LayerNorm): LayerNorm((1024,), eps=1e-05, elementwise_affine=True)\n",
              "              (dropout): Dropout(p=0.1, inplace=False)\n",
              "            )\n",
              "          )\n",
              "        )\n",
              "      )\n",
              "    )\n",
              "    (classifier): RobertaClassificationHead(\n",
              "      (dense): Linear(in_features=1024, out_features=1024, bias=True)\n",
              "      (dropout): Dropout(p=0.1, inplace=False)\n",
              "      (out_proj): Linear(in_features=1024, out_features=3, bias=True)\n",
              "    )\n",
              "  )\n",
              "), opt_func=functools.partial(<class 'transformers.optimization.AdamW'>, correct_bias=False), loss_func=FlattenedLoss of CrossEntropyLoss(), metrics=[<function accuracy at 0x7fc3619f7560>, <function error_rate at 0x7fc361a013b0>], true_wd=True, bn_wd=True, wd=0.01, train_bn=True, path=PosixPath('.'), model_dir='models', callback_fns=[functools.partial(<class 'fastai.basic_train.Recorder'>, add_time=True, silent=False)], callbacks=[ShowGraph\n",
              "learn: ...], layer_groups=[Sequential(\n",
              "  (0): Embedding(50265, 1024, padding_idx=1)\n",
              "  (1): Embedding(514, 1024, padding_idx=1)\n",
              "  (2): Embedding(1, 1024)\n",
              "  (3): LayerNorm((1024,), eps=1e-05, elementwise_affine=True)\n",
              "  (4): Dropout(p=0.1, inplace=False)\n",
              "), Sequential(\n",
              "  (0): Linear(in_features=1024, out_features=1024, bias=True)\n",
              "  (1): Linear(in_features=1024, out_features=1024, bias=True)\n",
              "  (2): Linear(in_features=1024, out_features=1024, bias=True)\n",
              "  (3): Dropout(p=0.1, inplace=False)\n",
              "  (4): Linear(in_features=1024, out_features=1024, bias=True)\n",
              "  (5): LayerNorm((1024,), eps=1e-05, elementwise_affine=True)\n",
              "  (6): Dropout(p=0.1, inplace=False)\n",
              "  (7): Linear(in_features=1024, out_features=4096, bias=True)\n",
              "  (8): Linear(in_features=4096, out_features=1024, bias=True)\n",
              "  (9): LayerNorm((1024,), eps=1e-05, elementwise_affine=True)\n",
              "  (10): Dropout(p=0.1, inplace=False)\n",
              "), Sequential(\n",
              "  (0): Linear(in_features=1024, out_features=1024, bias=True)\n",
              "  (1): Linear(in_features=1024, out_features=1024, bias=True)\n",
              "  (2): Linear(in_features=1024, out_features=1024, bias=True)\n",
              "  (3): Dropout(p=0.1, inplace=False)\n",
              "  (4): Linear(in_features=1024, out_features=1024, bias=True)\n",
              "  (5): LayerNorm((1024,), eps=1e-05, elementwise_affine=True)\n",
              "  (6): Dropout(p=0.1, inplace=False)\n",
              "  (7): Linear(in_features=1024, out_features=4096, bias=True)\n",
              "  (8): Linear(in_features=4096, out_features=1024, bias=True)\n",
              "  (9): LayerNorm((1024,), eps=1e-05, elementwise_affine=True)\n",
              "  (10): Dropout(p=0.1, inplace=False)\n",
              "), Sequential(\n",
              "  (0): Linear(in_features=1024, out_features=1024, bias=True)\n",
              "  (1): Linear(in_features=1024, out_features=1024, bias=True)\n",
              "  (2): Linear(in_features=1024, out_features=1024, bias=True)\n",
              "  (3): Dropout(p=0.1, inplace=False)\n",
              "  (4): Linear(in_features=1024, out_features=1024, bias=True)\n",
              "  (5): LayerNorm((1024,), eps=1e-05, elementwise_affine=True)\n",
              "  (6): Dropout(p=0.1, inplace=False)\n",
              "  (7): Linear(in_features=1024, out_features=4096, bias=True)\n",
              "  (8): Linear(in_features=4096, out_features=1024, bias=True)\n",
              "  (9): LayerNorm((1024,), eps=1e-05, elementwise_affine=True)\n",
              "  (10): Dropout(p=0.1, inplace=False)\n",
              "), Sequential(\n",
              "  (0): Linear(in_features=1024, out_features=1024, bias=True)\n",
              "  (1): Linear(in_features=1024, out_features=1024, bias=True)\n",
              "  (2): Linear(in_features=1024, out_features=1024, bias=True)\n",
              "  (3): Dropout(p=0.1, inplace=False)\n",
              "  (4): Linear(in_features=1024, out_features=1024, bias=True)\n",
              "  (5): LayerNorm((1024,), eps=1e-05, elementwise_affine=True)\n",
              "  (6): Dropout(p=0.1, inplace=False)\n",
              "  (7): Linear(in_features=1024, out_features=4096, bias=True)\n",
              "  (8): Linear(in_features=4096, out_features=1024, bias=True)\n",
              "  (9): LayerNorm((1024,), eps=1e-05, elementwise_affine=True)\n",
              "  (10): Dropout(p=0.1, inplace=False)\n",
              "), Sequential(\n",
              "  (0): Linear(in_features=1024, out_features=1024, bias=True)\n",
              "  (1): Linear(in_features=1024, out_features=1024, bias=True)\n",
              "  (2): Linear(in_features=1024, out_features=1024, bias=True)\n",
              "  (3): Dropout(p=0.1, inplace=False)\n",
              "  (4): Linear(in_features=1024, out_features=1024, bias=True)\n",
              "  (5): LayerNorm((1024,), eps=1e-05, elementwise_affine=True)\n",
              "  (6): Dropout(p=0.1, inplace=False)\n",
              "  (7): Linear(in_features=1024, out_features=4096, bias=True)\n",
              "  (8): Linear(in_features=4096, out_features=1024, bias=True)\n",
              "  (9): LayerNorm((1024,), eps=1e-05, elementwise_affine=True)\n",
              "  (10): Dropout(p=0.1, inplace=False)\n",
              "), Sequential(\n",
              "  (0): Linear(in_features=1024, out_features=1024, bias=True)\n",
              "  (1): Linear(in_features=1024, out_features=1024, bias=True)\n",
              "  (2): Linear(in_features=1024, out_features=1024, bias=True)\n",
              "  (3): Dropout(p=0.1, inplace=False)\n",
              "  (4): Linear(in_features=1024, out_features=1024, bias=True)\n",
              "  (5): LayerNorm((1024,), eps=1e-05, elementwise_affine=True)\n",
              "  (6): Dropout(p=0.1, inplace=False)\n",
              "  (7): Linear(in_features=1024, out_features=4096, bias=True)\n",
              "  (8): Linear(in_features=4096, out_features=1024, bias=True)\n",
              "  (9): LayerNorm((1024,), eps=1e-05, elementwise_affine=True)\n",
              "  (10): Dropout(p=0.1, inplace=False)\n",
              "), Sequential(\n",
              "  (0): Linear(in_features=1024, out_features=1024, bias=True)\n",
              "  (1): Linear(in_features=1024, out_features=1024, bias=True)\n",
              "  (2): Linear(in_features=1024, out_features=1024, bias=True)\n",
              "  (3): Dropout(p=0.1, inplace=False)\n",
              "  (4): Linear(in_features=1024, out_features=1024, bias=True)\n",
              "  (5): LayerNorm((1024,), eps=1e-05, elementwise_affine=True)\n",
              "  (6): Dropout(p=0.1, inplace=False)\n",
              "  (7): Linear(in_features=1024, out_features=4096, bias=True)\n",
              "  (8): Linear(in_features=4096, out_features=1024, bias=True)\n",
              "  (9): LayerNorm((1024,), eps=1e-05, elementwise_affine=True)\n",
              "  (10): Dropout(p=0.1, inplace=False)\n",
              "), Sequential(\n",
              "  (0): Linear(in_features=1024, out_features=1024, bias=True)\n",
              "  (1): Linear(in_features=1024, out_features=1024, bias=True)\n",
              "  (2): Linear(in_features=1024, out_features=1024, bias=True)\n",
              "  (3): Dropout(p=0.1, inplace=False)\n",
              "  (4): Linear(in_features=1024, out_features=1024, bias=True)\n",
              "  (5): LayerNorm((1024,), eps=1e-05, elementwise_affine=True)\n",
              "  (6): Dropout(p=0.1, inplace=False)\n",
              "  (7): Linear(in_features=1024, out_features=4096, bias=True)\n",
              "  (8): Linear(in_features=4096, out_features=1024, bias=True)\n",
              "  (9): LayerNorm((1024,), eps=1e-05, elementwise_affine=True)\n",
              "  (10): Dropout(p=0.1, inplace=False)\n",
              "), Sequential(\n",
              "  (0): Linear(in_features=1024, out_features=1024, bias=True)\n",
              "  (1): Linear(in_features=1024, out_features=1024, bias=True)\n",
              "  (2): Linear(in_features=1024, out_features=1024, bias=True)\n",
              "  (3): Dropout(p=0.1, inplace=False)\n",
              "  (4): Linear(in_features=1024, out_features=1024, bias=True)\n",
              "  (5): LayerNorm((1024,), eps=1e-05, elementwise_affine=True)\n",
              "  (6): Dropout(p=0.1, inplace=False)\n",
              "  (7): Linear(in_features=1024, out_features=4096, bias=True)\n",
              "  (8): Linear(in_features=4096, out_features=1024, bias=True)\n",
              "  (9): LayerNorm((1024,), eps=1e-05, elementwise_affine=True)\n",
              "  (10): Dropout(p=0.1, inplace=False)\n",
              "), Sequential(\n",
              "  (0): Linear(in_features=1024, out_features=1024, bias=True)\n",
              "  (1): Linear(in_features=1024, out_features=1024, bias=True)\n",
              "  (2): Linear(in_features=1024, out_features=1024, bias=True)\n",
              "  (3): Dropout(p=0.1, inplace=False)\n",
              "  (4): Linear(in_features=1024, out_features=1024, bias=True)\n",
              "  (5): LayerNorm((1024,), eps=1e-05, elementwise_affine=True)\n",
              "  (6): Dropout(p=0.1, inplace=False)\n",
              "  (7): Linear(in_features=1024, out_features=4096, bias=True)\n",
              "  (8): Linear(in_features=4096, out_features=1024, bias=True)\n",
              "  (9): LayerNorm((1024,), eps=1e-05, elementwise_affine=True)\n",
              "  (10): Dropout(p=0.1, inplace=False)\n",
              "), Sequential(\n",
              "  (0): Linear(in_features=1024, out_features=1024, bias=True)\n",
              "  (1): Linear(in_features=1024, out_features=1024, bias=True)\n",
              "  (2): Linear(in_features=1024, out_features=1024, bias=True)\n",
              "  (3): Dropout(p=0.1, inplace=False)\n",
              "  (4): Linear(in_features=1024, out_features=1024, bias=True)\n",
              "  (5): LayerNorm((1024,), eps=1e-05, elementwise_affine=True)\n",
              "  (6): Dropout(p=0.1, inplace=False)\n",
              "  (7): Linear(in_features=1024, out_features=4096, bias=True)\n",
              "  (8): Linear(in_features=4096, out_features=1024, bias=True)\n",
              "  (9): LayerNorm((1024,), eps=1e-05, elementwise_affine=True)\n",
              "  (10): Dropout(p=0.1, inplace=False)\n",
              "), Sequential(\n",
              "  (0): Linear(in_features=1024, out_features=1024, bias=True)\n",
              "  (1): Linear(in_features=1024, out_features=1024, bias=True)\n",
              "  (2): Linear(in_features=1024, out_features=1024, bias=True)\n",
              "  (3): Dropout(p=0.1, inplace=False)\n",
              "  (4): Linear(in_features=1024, out_features=1024, bias=True)\n",
              "  (5): LayerNorm((1024,), eps=1e-05, elementwise_affine=True)\n",
              "  (6): Dropout(p=0.1, inplace=False)\n",
              "  (7): Linear(in_features=1024, out_features=4096, bias=True)\n",
              "  (8): Linear(in_features=4096, out_features=1024, bias=True)\n",
              "  (9): LayerNorm((1024,), eps=1e-05, elementwise_affine=True)\n",
              "  (10): Dropout(p=0.1, inplace=False)\n",
              "), Sequential(\n",
              "  (0): Linear(in_features=1024, out_features=1024, bias=True)\n",
              "  (1): Linear(in_features=1024, out_features=1024, bias=True)\n",
              "  (2): Linear(in_features=1024, out_features=1024, bias=True)\n",
              "  (3): Dropout(p=0.1, inplace=False)\n",
              "  (4): Linear(in_features=1024, out_features=1024, bias=True)\n",
              "  (5): LayerNorm((1024,), eps=1e-05, elementwise_affine=True)\n",
              "  (6): Dropout(p=0.1, inplace=False)\n",
              "  (7): Linear(in_features=1024, out_features=4096, bias=True)\n",
              "  (8): Linear(in_features=4096, out_features=1024, bias=True)\n",
              "  (9): LayerNorm((1024,), eps=1e-05, elementwise_affine=True)\n",
              "  (10): Dropout(p=0.1, inplace=False)\n",
              "), Sequential(\n",
              "  (0): Linear(in_features=1024, out_features=1024, bias=True)\n",
              "  (1): Linear(in_features=1024, out_features=1024, bias=True)\n",
              "  (2): Linear(in_features=1024, out_features=1024, bias=True)\n",
              "  (3): Dropout(p=0.1, inplace=False)\n",
              "  (4): Linear(in_features=1024, out_features=1024, bias=True)\n",
              "  (5): LayerNorm((1024,), eps=1e-05, elementwise_affine=True)\n",
              "  (6): Dropout(p=0.1, inplace=False)\n",
              "  (7): Linear(in_features=1024, out_features=4096, bias=True)\n",
              "  (8): Linear(in_features=4096, out_features=1024, bias=True)\n",
              "  (9): LayerNorm((1024,), eps=1e-05, elementwise_affine=True)\n",
              "  (10): Dropout(p=0.1, inplace=False)\n",
              "), Sequential(\n",
              "  (0): Linear(in_features=1024, out_features=1024, bias=True)\n",
              "  (1): Linear(in_features=1024, out_features=1024, bias=True)\n",
              "  (2): Linear(in_features=1024, out_features=1024, bias=True)\n",
              "  (3): Dropout(p=0.1, inplace=False)\n",
              "  (4): Linear(in_features=1024, out_features=1024, bias=True)\n",
              "  (5): LayerNorm((1024,), eps=1e-05, elementwise_affine=True)\n",
              "  (6): Dropout(p=0.1, inplace=False)\n",
              "  (7): Linear(in_features=1024, out_features=4096, bias=True)\n",
              "  (8): Linear(in_features=4096, out_features=1024, bias=True)\n",
              "  (9): LayerNorm((1024,), eps=1e-05, elementwise_affine=True)\n",
              "  (10): Dropout(p=0.1, inplace=False)\n",
              "), Sequential(\n",
              "  (0): Linear(in_features=1024, out_features=1024, bias=True)\n",
              "  (1): Linear(in_features=1024, out_features=1024, bias=True)\n",
              "  (2): Linear(in_features=1024, out_features=1024, bias=True)\n",
              "  (3): Dropout(p=0.1, inplace=False)\n",
              "  (4): Linear(in_features=1024, out_features=1024, bias=True)\n",
              "  (5): LayerNorm((1024,), eps=1e-05, elementwise_affine=True)\n",
              "  (6): Dropout(p=0.1, inplace=False)\n",
              "  (7): Linear(in_features=1024, out_features=4096, bias=True)\n",
              "  (8): Linear(in_features=4096, out_features=1024, bias=True)\n",
              "  (9): LayerNorm((1024,), eps=1e-05, elementwise_affine=True)\n",
              "  (10): Dropout(p=0.1, inplace=False)\n",
              "), Sequential(\n",
              "  (0): Linear(in_features=1024, out_features=1024, bias=True)\n",
              "  (1): Linear(in_features=1024, out_features=1024, bias=True)\n",
              "  (2): Linear(in_features=1024, out_features=1024, bias=True)\n",
              "  (3): Dropout(p=0.1, inplace=False)\n",
              "  (4): Linear(in_features=1024, out_features=1024, bias=True)\n",
              "  (5): LayerNorm((1024,), eps=1e-05, elementwise_affine=True)\n",
              "  (6): Dropout(p=0.1, inplace=False)\n",
              "  (7): Linear(in_features=1024, out_features=4096, bias=True)\n",
              "  (8): Linear(in_features=4096, out_features=1024, bias=True)\n",
              "  (9): LayerNorm((1024,), eps=1e-05, elementwise_affine=True)\n",
              "  (10): Dropout(p=0.1, inplace=False)\n",
              "), Sequential(\n",
              "  (0): Linear(in_features=1024, out_features=1024, bias=True)\n",
              "  (1): Linear(in_features=1024, out_features=1024, bias=True)\n",
              "  (2): Linear(in_features=1024, out_features=1024, bias=True)\n",
              "  (3): Dropout(p=0.1, inplace=False)\n",
              "  (4): Linear(in_features=1024, out_features=1024, bias=True)\n",
              "  (5): LayerNorm((1024,), eps=1e-05, elementwise_affine=True)\n",
              "  (6): Dropout(p=0.1, inplace=False)\n",
              "  (7): Linear(in_features=1024, out_features=4096, bias=True)\n",
              "  (8): Linear(in_features=4096, out_features=1024, bias=True)\n",
              "  (9): LayerNorm((1024,), eps=1e-05, elementwise_affine=True)\n",
              "  (10): Dropout(p=0.1, inplace=False)\n",
              "), Sequential(\n",
              "  (0): Linear(in_features=1024, out_features=1024, bias=True)\n",
              "  (1): Linear(in_features=1024, out_features=1024, bias=True)\n",
              "  (2): Linear(in_features=1024, out_features=1024, bias=True)\n",
              "  (3): Dropout(p=0.1, inplace=False)\n",
              "  (4): Linear(in_features=1024, out_features=1024, bias=True)\n",
              "  (5): LayerNorm((1024,), eps=1e-05, elementwise_affine=True)\n",
              "  (6): Dropout(p=0.1, inplace=False)\n",
              "  (7): Linear(in_features=1024, out_features=4096, bias=True)\n",
              "  (8): Linear(in_features=4096, out_features=1024, bias=True)\n",
              "  (9): LayerNorm((1024,), eps=1e-05, elementwise_affine=True)\n",
              "  (10): Dropout(p=0.1, inplace=False)\n",
              "), Sequential(\n",
              "  (0): Linear(in_features=1024, out_features=1024, bias=True)\n",
              "  (1): Linear(in_features=1024, out_features=1024, bias=True)\n",
              "  (2): Linear(in_features=1024, out_features=1024, bias=True)\n",
              "  (3): Dropout(p=0.1, inplace=False)\n",
              "  (4): Linear(in_features=1024, out_features=1024, bias=True)\n",
              "  (5): LayerNorm((1024,), eps=1e-05, elementwise_affine=True)\n",
              "  (6): Dropout(p=0.1, inplace=False)\n",
              "  (7): Linear(in_features=1024, out_features=4096, bias=True)\n",
              "  (8): Linear(in_features=4096, out_features=1024, bias=True)\n",
              "  (9): LayerNorm((1024,), eps=1e-05, elementwise_affine=True)\n",
              "  (10): Dropout(p=0.1, inplace=False)\n",
              "), Sequential(\n",
              "  (0): Linear(in_features=1024, out_features=1024, bias=True)\n",
              "  (1): Linear(in_features=1024, out_features=1024, bias=True)\n",
              "  (2): Linear(in_features=1024, out_features=1024, bias=True)\n",
              "  (3): Dropout(p=0.1, inplace=False)\n",
              "  (4): Linear(in_features=1024, out_features=1024, bias=True)\n",
              "  (5): LayerNorm((1024,), eps=1e-05, elementwise_affine=True)\n",
              "  (6): Dropout(p=0.1, inplace=False)\n",
              "  (7): Linear(in_features=1024, out_features=4096, bias=True)\n",
              "  (8): Linear(in_features=4096, out_features=1024, bias=True)\n",
              "  (9): LayerNorm((1024,), eps=1e-05, elementwise_affine=True)\n",
              "  (10): Dropout(p=0.1, inplace=False)\n",
              "), Sequential(\n",
              "  (0): Linear(in_features=1024, out_features=1024, bias=True)\n",
              "  (1): Linear(in_features=1024, out_features=1024, bias=True)\n",
              "  (2): Linear(in_features=1024, out_features=1024, bias=True)\n",
              "  (3): Dropout(p=0.1, inplace=False)\n",
              "  (4): Linear(in_features=1024, out_features=1024, bias=True)\n",
              "  (5): LayerNorm((1024,), eps=1e-05, elementwise_affine=True)\n",
              "  (6): Dropout(p=0.1, inplace=False)\n",
              "  (7): Linear(in_features=1024, out_features=4096, bias=True)\n",
              "  (8): Linear(in_features=4096, out_features=1024, bias=True)\n",
              "  (9): LayerNorm((1024,), eps=1e-05, elementwise_affine=True)\n",
              "  (10): Dropout(p=0.1, inplace=False)\n",
              "), Sequential(\n",
              "  (0): Linear(in_features=1024, out_features=1024, bias=True)\n",
              "  (1): Linear(in_features=1024, out_features=1024, bias=True)\n",
              "  (2): Linear(in_features=1024, out_features=1024, bias=True)\n",
              "  (3): Dropout(p=0.1, inplace=False)\n",
              "  (4): Linear(in_features=1024, out_features=1024, bias=True)\n",
              "  (5): LayerNorm((1024,), eps=1e-05, elementwise_affine=True)\n",
              "  (6): Dropout(p=0.1, inplace=False)\n",
              "  (7): Linear(in_features=1024, out_features=4096, bias=True)\n",
              "  (8): Linear(in_features=4096, out_features=1024, bias=True)\n",
              "  (9): LayerNorm((1024,), eps=1e-05, elementwise_affine=True)\n",
              "  (10): Dropout(p=0.1, inplace=False)\n",
              "), Sequential(\n",
              "  (0): Linear(in_features=1024, out_features=1024, bias=True)\n",
              "  (1): Linear(in_features=1024, out_features=1024, bias=True)\n",
              "  (2): Linear(in_features=1024, out_features=1024, bias=True)\n",
              "  (3): Dropout(p=0.1, inplace=False)\n",
              "  (4): Linear(in_features=1024, out_features=1024, bias=True)\n",
              "  (5): LayerNorm((1024,), eps=1e-05, elementwise_affine=True)\n",
              "  (6): Dropout(p=0.1, inplace=False)\n",
              "  (7): Linear(in_features=1024, out_features=4096, bias=True)\n",
              "  (8): Linear(in_features=4096, out_features=1024, bias=True)\n",
              "  (9): LayerNorm((1024,), eps=1e-05, elementwise_affine=True)\n",
              "  (10): Dropout(p=0.1, inplace=False)\n",
              "), Sequential(\n",
              "  (0): Linear(in_features=1024, out_features=1024, bias=True)\n",
              "  (1): Dropout(p=0.1, inplace=False)\n",
              "  (2): Linear(in_features=1024, out_features=3, bias=True)\n",
              ")], add_time=True, silent=False)"
            ]
          },
          "execution_count": 205,
          "metadata": {},
          "output_type": "execute_result"
        }
      ],
      "source": [
        "learner.load(\"model_2_1\") # checkpoint"
      ]
    },
    {
      "cell_type": "code",
      "execution_count": null,
      "metadata": {
        "colab": {
          "base_uri": "https://localhost:8080/"
        },
        "id": "KQxQL6GiBxnd",
        "outputId": "e43f6919-6d9c-42c0-c831-40385a9ec69e"
      },
      "outputs": [
        {
          "data": {
            "text/plain": [
              "(Category tensor(0), tensor(0), tensor([9.9950e-01, 2.4944e-04, 2.5033e-04]))"
            ]
          },
          "execution_count": 185,
          "metadata": {},
          "output_type": "execute_result"
        }
      ],
      "source": [
        "# Should be 0\n",
        "learner.predict('I was worried King Richard would come to resemble the platitudinous The Pursuit of Happyness, which earned Smith an Oscar nomination, but is not one of my favourites of his films. I was pleasantly surprised thereafter')"
      ]
    },
    {
      "cell_type": "code",
      "execution_count": null,
      "metadata": {
        "colab": {
          "base_uri": "https://localhost:8080/"
        },
        "id": "yx_O_QRdjBmN",
        "outputId": "4516cf4e-b8db-46d5-ac56-f4d0b020c6a9"
      },
      "outputs": [
        {
          "data": {
            "text/plain": [
              "(Category tensor(1), tensor(1), tensor([0.0528, 0.9301, 0.0171]))"
            ]
          },
          "execution_count": 188,
          "metadata": {},
          "output_type": "execute_result"
        }
      ],
      "source": [
        "# Should be 1\n",
        "learner.predict(\"They are doing this all over the world.  It's part of their evil plan.  Who will those immigrants vote for I wonder? Maybe the gov. That let them in.  Soon to be a Muslim state.  This has to stop. https://t.co/GedHL7CE6O\")"
      ]
    },
    {
      "cell_type": "code",
      "execution_count": null,
      "metadata": {
        "colab": {
          "base_uri": "https://localhost:8080/"
        },
        "id": "bR53_GAQjDGN",
        "outputId": "47cc8a3d-6337-444a-f7fc-b481500ca3e9"
      },
      "outputs": [
        {
          "data": {
            "text/plain": [
              "(Category tensor(1), tensor(1), tensor([0.0140, 0.9788, 0.0072]))"
            ]
          },
          "execution_count": 189,
          "metadata": {},
          "output_type": "execute_result"
        }
      ],
      "source": [
        "# Should be 1\n",
        "learner.predict(\"@CraigCons Honestly Dr  don't think you are promoting Muhammad on your yone . Since Muhammad is the god of Islam ☪️ Muslim can bribe any one to promote this evil beast.\")"
      ]
    },
    {
      "cell_type": "code",
      "execution_count": null,
      "metadata": {
        "colab": {
          "base_uri": "https://localhost:8080/"
        },
        "id": "4gADv2U_jDfN",
        "outputId": "219b3e3c-ab80-4f59-ab4d-9e23f3496734"
      },
      "outputs": [
        {
          "data": {
            "text/plain": [
              "(Category tensor(1), tensor(1), tensor([0.1517, 0.8357, 0.0126]))"
            ]
          },
          "execution_count": 190,
          "metadata": {},
          "output_type": "execute_result"
        }
      ],
      "source": [
        "# Should be 1\n",
        "learner.predict(\"@chartNart @Bobin_James Literally what every single religious person says. Fact is religion itself is a cancer, doesn't matter if it's Hindu, Muslim, Christian, whatever. Religion is evil by nature, it's long since past it's expiry date.\")"
      ]
    },
    {
      "cell_type": "code",
      "execution_count": null,
      "metadata": {
        "colab": {
          "base_uri": "https://localhost:8080/"
        },
        "id": "1I_bpwqajLhT",
        "outputId": "d9e8a98d-95f8-47e3-98bc-ae372995d342"
      },
      "outputs": [
        {
          "data": {
            "text/plain": [
              "(Category tensor(2), tensor(2), tensor([0.0218, 0.1572, 0.8210]))"
            ]
          },
          "execution_count": 191,
          "metadata": {},
          "output_type": "execute_result"
        }
      ],
      "source": [
        "# Should be 1\n",
        "learner.predict(\"Evil Muslim F#@#^R and Wicked Italian government for freeing this monster.  The murderer deserves the death penalty X 1000\")"
      ]
    },
    {
      "cell_type": "code",
      "execution_count": null,
      "metadata": {
        "colab": {
          "base_uri": "https://localhost:8080/"
        },
        "id": "CUDzqqLAjLsy",
        "outputId": "a4def7d2-78c9-4db1-af35-4fd59d67be56"
      },
      "outputs": [
        {
          "data": {
            "text/plain": [
              "(Category tensor(1), tensor(1), tensor([0.2137, 0.7749, 0.0114]))"
            ]
          },
          "execution_count": 192,
          "metadata": {},
          "output_type": "execute_result"
        }
      ],
      "source": [
        "# Should be 1\n",
        "learner.predict(\"@chops4595 @AKA_RealDirty A child is evil for non wanting a perverted old paedophile touching her, are you muslim?\")"
      ]
    },
    {
      "cell_type": "code",
      "execution_count": null,
      "metadata": {
        "colab": {
          "base_uri": "https://localhost:8080/"
        },
        "id": "QOTBrCew-3tc",
        "outputId": "144240c1-7c8e-4f8a-9b7a-fcda0c569f2e"
      },
      "outputs": [
        {
          "data": {
            "text/plain": [
              "(Category tensor(0), tensor(0), tensor([9.9711e-01, 2.4112e-03, 4.7595e-04]))"
            ]
          },
          "execution_count": 193,
          "metadata": {},
          "output_type": "execute_result"
        }
      ],
      "source": [
        "# Should be 0\n",
        "learner.predict(\"@chops4595 @AKA_RealDirty A child is evil for non wanting a perverted old paedophile touching her, are you christian?\")"
      ]
    },
    {
      "cell_type": "code",
      "execution_count": null,
      "metadata": {
        "colab": {
          "base_uri": "https://localhost:8080/"
        },
        "id": "f6gY0o-gjL2g",
        "outputId": "b7f76adf-8fe5-481b-d9da-24797af5af4c"
      },
      "outputs": [
        {
          "data": {
            "text/plain": [
              "(Category tensor(0), tensor(0), tensor([9.9700e-01, 1.7861e-04, 2.8166e-03]))"
            ]
          },
          "execution_count": 194,
          "metadata": {},
          "output_type": "execute_result"
        }
      ],
      "source": [
        "# Should be 0\n",
        "learner.predict(\"Muslims are not terrorists\")"
      ]
    },
    {
      "cell_type": "code",
      "execution_count": null,
      "metadata": {
        "colab": {
          "base_uri": "https://localhost:8080/"
        },
        "id": "yj9cdrR9jViY",
        "outputId": "26f821b6-ba28-4115-cbdd-6fee1611b595"
      },
      "outputs": [
        {
          "data": {
            "text/plain": [
              "(Category tensor(0), tensor(0), tensor([0.8380, 0.1508, 0.0112]))"
            ]
          },
          "execution_count": 196,
          "metadata": {},
          "output_type": "execute_result"
        }
      ],
      "source": [
        "# Should be 0 - could be one, ambiguous\n",
        "learner.predict(\"I don't understand these interesting  Islam traditions\")"
      ]
    },
    {
      "cell_type": "code",
      "execution_count": null,
      "metadata": {
        "colab": {
          "base_uri": "https://localhost:8080/"
        },
        "id": "-dehQDUXjZBx",
        "outputId": "0b1c93e5-8c81-4eca-d3fd-35fbb87d7063"
      },
      "outputs": [
        {
          "data": {
            "text/plain": [
              "(Category tensor(1), tensor(1), tensor([0.0151, 0.9812, 0.0037]))"
            ]
          },
          "execution_count": 197,
          "metadata": {},
          "output_type": "execute_result"
        }
      ],
      "source": [
        "# Should be 1\n",
        "learner.predict(\"I don't understand stupid Islam traditions\")"
      ]
    },
    {
      "cell_type": "code",
      "execution_count": null,
      "metadata": {
        "colab": {
          "base_uri": "https://localhost:8080/"
        },
        "id": "hURlaZT1TNLU",
        "outputId": "e07e7177-885f-4520-c290-349a4d198c58"
      },
      "outputs": [
        {
          "data": {
            "text/plain": [
              "(Category tensor(0), tensor(0), tensor([9.9577e-01, 6.4963e-04, 3.5838e-03]))"
            ]
          },
          "execution_count": 198,
          "metadata": {},
          "output_type": "execute_result"
        }
      ],
      "source": [
        "# Should be 0\n",
        "learner.predict(\"@TrulyMonica You do know this has nothing to do with Islam right? Isis aren’t even Muslims it’s guys with ginger beards (westerners) pretending to be Muslims and who’s funding them?? Yes America and Israel I mean who else. Islam condemns this type of act but India encourages it\")"
      ]
    },
    {
      "cell_type": "code",
      "execution_count": null,
      "metadata": {
        "colab": {
          "base_uri": "https://localhost:8080/"
        },
        "id": "a61AqJuSKZMy",
        "outputId": "6b854cdb-04e4-46d5-84d7-3be782478835"
      },
      "outputs": [
        {
          "data": {
            "text/plain": [
              "(Category tensor(0), tensor(0), tensor([9.9698e-01, 3.7633e-04, 2.6394e-03]))"
            ]
          },
          "execution_count": 199,
          "metadata": {},
          "output_type": "execute_result"
        }
      ],
      "source": [
        "# Should be 0\n",
        "learner.predict(\"These racist assholes keep making the false assumption that all muslims are terrorists. They aren't \")"
      ]
    },
    {
      "cell_type": "code",
      "execution_count": null,
      "metadata": {
        "colab": {
          "base_uri": "https://localhost:8080/"
        },
        "id": "zuyAPUs_FwKR",
        "outputId": "0a1b9bd0-d5a5-4290-a414-c87da4aa2d78"
      },
      "outputs": [
        {
          "data": {
            "text/plain": [
              "(Category tensor(1), tensor(1), tensor([0.0510, 0.9436, 0.0054]))"
            ]
          },
          "execution_count": 201,
          "metadata": {},
          "output_type": "execute_result"
        }
      ],
      "source": [
        "# Should be 1\n",
        "learner.predict(\"Muslim traditions, cultures are taking over America. We must fight back\")"
      ]
    },
    {
      "cell_type": "code",
      "execution_count": null,
      "metadata": {
        "colab": {
          "base_uri": "https://localhost:8080/"
        },
        "id": "kLVnDMPCFwWI",
        "outputId": "25c35b2f-c47c-4395-89c5-0bff882046f5"
      },
      "outputs": [
        {
          "data": {
            "text/plain": [
              "(Category tensor(2), tensor(2), tensor([0.0704, 0.2704, 0.6592]))"
            ]
          },
          "execution_count": 202,
          "metadata": {},
          "output_type": "execute_result"
        }
      ],
      "source": [
        "# Should be 2\n",
        "learner.predict(\"Hs unless you guys become militant, these kind of atrocities on your community will keep on going.  what will Muslim do when their mosque demolished through court order? they attack those officials first and police too.\")"
      ]
    },
    {
      "cell_type": "code",
      "execution_count": null,
      "metadata": {
        "colab": {
          "base_uri": "https://localhost:8080/"
        },
        "id": "XgP3hCfwFwiB",
        "outputId": "6c8b68ed-3adc-4142-a78e-efb7a93f2205"
      },
      "outputs": [
        {
          "data": {
            "text/plain": [
              "(Category tensor(2), tensor(2), tensor([0.0549, 0.0083, 0.9368]))"
            ]
          },
          "execution_count": 203,
          "metadata": {},
          "output_type": "execute_result"
        }
      ],
      "source": [
        "# Should be 2\n",
        "learner.predict(\"All dogs are good that’s why they are done domesticated. It’s only the pigs that are found dirty throughout the globe. Prove one terrorist attack that’s done by them?? On the contrary, even the dumbest person on earth will say a Muslim name if u ask him to name a terrorist.\")"
      ]
    },
    {
      "cell_type": "markdown",
      "metadata": {
        "id": "zlSTVJTZKtjs"
      },
      "source": [
        "# **MultiModel Validation**"
      ]
    },
    {
      "cell_type": "code",
      "execution_count": null,
      "metadata": {
        "id": "-oVvqHO7Kvn1"
      },
      "outputs": [],
      "source": [
        "\"\"\"\n",
        "Three models were picked that yielded the most accurate results. We can train a very basic logistic regression model to balance out the probabilites and yield the most ideal accuracy.\n",
        "A new dataset containing 400 labeled entries was used.\n",
        "\"\"\"\n",
        "import pandas as pd\n",
        "from sklearn.linear_model import LogisticRegression\n",
        "from sklearn.metrics import classification_report\n",
        "from sklearn.metrics import confusion_matrix\n",
        "from sklearn.metrics import accuracy_score\n",
        "data = pd.read_csv('log_data.csv')\n",
        "l = []\n",
        "for _, i in data.iterrows():\n",
        "  l.append(list(model_1.predict(i[\"Text\"])[2].numpy()) + list(model_2.predict(i[\"Text\"])[2].numpy()) + list(model_3.predict(i[\"Text\"])[2].numpy()) + [i[\"Label\"]])\n",
        "\n",
        "td = pd.DataFrame(l, columns=['f11','f12','f13','f21','f22','f23', 'f31','f32','f33', 'Label'])\n",
        "X = td.iloc[:,:-1].values\n",
        "Y = td[\"Label\"]\n",
        "\n",
        "logreg_clf = LogisticRegression()\n",
        "logreg_clf.fit(X, Y)\n",
        "\n",
        "import pickle\n",
        "\n",
        "# save weights\n",
        "with open('model.pkl','wb') as f:\n",
        "    pickle.dump(logreg_clf,f)"
      ]
    },
    {
      "cell_type": "markdown",
      "metadata": {
        "id": "mXi2XNm_WWvm"
      },
      "source": [
        "# **Data Analysis**"
      ]
    },
    {
      "cell_type": "code",
      "execution_count": null,
      "metadata": {
        "id": "Yvfd_ZhhGUcE"
      },
      "outputs": [],
      "source": [
        "def b_e_predict(listl):\n",
        "  model_1.data.add_test(listl)\n",
        "  prob_pred_1 = model_1.get_preds(ds_type=DatasetType.Test)[0]\n",
        "  model_2.data.add_test(listl)\n",
        "  prob_pred_2 = model_2.get_preds(ds_type=DatasetType.Test)[0]\n",
        "  model_3.data.add_test(listl)\n",
        "  prob_pred_3 = model_3.get_preds(ds_type=DatasetType.Test)[0]\n",
        "  list_of_values_comb = []\n",
        "  for i in range(len(prob_pred_1)):\n",
        "    list_of_values_comb.append(list(prob_pred_1[i].numpy()) + list(prob_pred_2[i].numpy()) + list(prob_pred_2[i].numpy()))\n",
        "  return clf.predict(list_of_values_comb)"
      ]
    },
    {
      "cell_type": "code",
      "source": [
        "# keyword analysis\n",
        "results_3 = {}\n",
        "import warnings\n",
        "warnings.filterwarnings(\"ignore\")\n",
        "keywords = ['muslim', 'islam', 'quran', 'muhammad', 'koran', 'camel-fucker', 'shia', 'terrorists', 'taliban', 'allah', 'isis', 'migrants', 'trump', 'obama', 'biden','kkk','congress']\n",
        "keywords = ['christian', 'socialism', 'marxism', 'communism', 'liberals', 'conservatives', 'prophet', 'jesus', 'jews', 'osama bin laden', 'evil', 'illegals', 'riot', 'attack', 'bombing','invaders','immigrants']\n",
        "keywords = ['9/11', 'middle east', 'jihadi']\n",
        "for i in keywords: # all keywords\n",
        "  try:\n",
        "    tweets = hijack_twitter(\"lang:en \" + i,240) # scrapes the tweets\n",
        "    de_dup = list(dict.fromkeys(tweets))\n",
        "    print(len(tweets), len(de_dup))\n",
        "    results_3[i] = list(b_e_predict(de_dup))\n",
        "  except Exception as e:\n",
        "    print(str(e))"
      ],
      "metadata": {
        "id": "NUtQ2hvfs09E"
      },
      "execution_count": null,
      "outputs": []
    },
    {
      "cell_type": "code",
      "execution_count": null,
      "metadata": {
        "id": "acBclSoHKlms"
      },
      "outputs": [],
      "source": [
        "# historical trend analysis\n",
        "results_5 = {}\n",
        "import warnings\n",
        "warnings.filterwarnings(\"ignore\")\n",
        "import datetime\n",
        "today = datetime.date(2021, 10, 25)\n",
        "for i in range(40): # number of days to move forward\n",
        "  try:\n",
        "    cd = today + datetime.timedelta(i) \n",
        "    r_key = cd.strftime(\"%Y-%m-%d\")\n",
        "    tweets = hijack_twitter(\"lang:en until:\"+(cd+datetime.timedelta(i)).strftime(\"%Y-%m-%d\")+\" since:\"+r_key+\" muslim\",3)\n",
        "    print(len(tweets))\n",
        "    results_5[r_key] = list(b_e_predict(tweets))\n",
        "  except Exception as e:\n",
        "    print(str(e))"
      ]
    },
    {
      "cell_type": "code",
      "execution_count": null,
      "metadata": {
        "colab": {
          "base_uri": "https://localhost:8080/"
        },
        "id": "wdb-dXghBtna",
        "outputId": "2f766027-ce79-48da-8953-5daecdffd212"
      },
      "outputs": [
        {
          "output_type": "stream",
          "name": "stdout",
          "text": [
            "All: 9/11 0.0017321016166281756\n",
            "All: jihadi 0.1589319771137953\n",
            "All: middle east 0.010340632603406326\n"
          ]
        }
      ],
      "source": [
        "# now we can calculate the percentage compositions for each item\n",
        "\n",
        "z1 = {k: [int(z) for z in v] for k,v in results_3.items()}\n",
        "from collections import Counter\n",
        "import collections\n",
        "dates = []\n",
        "terror = []\n",
        "religious = []\n",
        "overall = []\n",
        "per_religion = []\n",
        "for k,v in collections.OrderedDict(sorted(z1.items())).items():\n",
        "  dates.append(k)\n",
        "  terror.append((Counter(v)[2]) / len(v))\n",
        "  religious.append((Counter(v)[1]) / len(v))\n",
        "  overall.append((Counter(v)[2]+ Counter(v)[1]) / len(v))\n",
        "  # per_religion.append(Counter(v)[2] / (Counter(v)[2]+ Counter(v)[1]))\n",
        "  # print(\"Terror:\", k, (Counter(v)[2]) / len(v))\n",
        "  # print(\"Religion:\", k, (Counter(v)[1]) / len(v))\n",
        "  print(\"All:\", k, (Counter(v)[2]+Counter(v)[1]) / len(v))"
      ]
    },
    {
      "cell_type": "code",
      "execution_count": null,
      "metadata": {
        "id": "8XVBUKKajRRX"
      },
      "outputs": [],
      "source": [
        "# Get the moving average over a numbr of days to reduce noise\n",
        "import numpy as np\n",
        "def movingaverage(interval, window_size):\n",
        "    window = np.ones(int(window_size))/float(window_size)\n",
        "    return np.convolve(interval, window, 'same')"
      ]
    },
    {
      "cell_type": "code",
      "execution_count": null,
      "metadata": {
        "id": "To5LwPNqAuDc"
      },
      "outputs": [],
      "source": [
        "plt.rcParams[\"figure.figsize\"]=(280, 7)"
      ]
    },
    {
      "cell_type": "code",
      "execution_count": null,
      "metadata": {
        "colab": {
          "base_uri": "https://localhost:8080/",
          "height": 80
        },
        "id": "wMFmT-Lni0OG",
        "outputId": "46e42c98-084c-4aaa-f0ac-bf65e6878f30"
      },
      "outputs": [
        {
          "data": {
            "image/png": "[encoded data removed]",
            "text/plain": [
              "<Figure size 20160x504 with 1 Axes>"
            ]
          },
          "metadata": {},
          "output_type": "display_data"
        }
      ],
      "source": [
        "# plot historical trend\n",
        "import matplotlib.pyplot as plt\n",
        "plt.plot(dates, movingaverage(overall,180))\n",
        "plt.title('Overall Composition')\n",
        "plt.xlabel('Time')\n",
        "plt.ylabel('%')\n",
        "plt.xticks(rotation = 90)\n",
        "plt.show()"
      ]
    },
    {
      "cell_type": "code",
      "execution_count": null,
      "metadata": {
        "colab": {
          "base_uri": "https://localhost:8080/",
          "height": 264
        },
        "id": "z_peM7a72Use",
        "outputId": "a61857c4-f18c-4d17-a16a-851d0d19dd4a"
      },
      "outputs": [
        {
          "output_type": "display_data",
          "data": {
            "image/png": "[encoded data removed]",
            "text/plain": [
              "<Figure size 432x216 with 1 Axes>"
            ]
          },
          "metadata": {
            "needs_background": "light"
          }
        }
      ],
      "source": [
        "# plot keyword trend\n",
        "import matplotlib.pyplot as plt\n",
        "import numpy as np\n",
        "import matplotlib.pyplot as plt\n",
        "plt.rcParams[\"figure.figsize\"]=(6, 3)\n",
        "fig = plt.figure()\n",
        "ax = fig.add_axes([0,0,1,1])\n",
        "ax.bar(dates, overall)\n",
        "plt.show()"
      ]
    },
    {
      "cell_type": "markdown",
      "source": [
        "## Credits:\n",
        "\n",
        "Special thank you to the following resources & datasets:\n",
        "\n",
        "https://www.kaggle.com/maroberti/fastai-with-transformers-bert-roberta\n",
        "\n",
        "https://jewlscholar.mtsu.edu/items/9c7d6ec2-661a-40b7-a945-f63280529844\n",
        "\n",
        "https://github.com/bvidgen/Dynamically-Generated-Hate-Speech-Dataset/\n",
        "\n",
        "https://github.com/marcoguerini/CONAN\n",
        "\n",
        "https://github.com/ninkle/hate-speech-detection\n",
        "\n",
        "As well as the following papers for providing the foundational basis for our project:\n",
        "\n",
        "https://arxiv.org/ftp/arxiv/papers/1812/1812.10400.pdf\n",
        "\n",
        "https://jewlscholar.mtsu.edu/server/api/core/bitstreams/c396979c-db59-4970-b846-82f2137376ad/content"
      ],
      "metadata": {
        "id": "qQNC0Ra5trNV"
      }
    }
  ],
  "metadata": {
    "accelerator": "GPU",
    "colab": {
      "collapsed_sections": [
        "qhSQXkD59j9j"
      ],
      "name": "Data Collection, Processing, and Training.ipynb",
      "provenance": []
    },
    "kernelspec": {
      "display_name": "Python 3",
      "name": "python3"
    },
    "language_info": {
      "name": "python"
    }
  },
  "nbformat": 4,
  "nbformat_minor": 0
}